{
  "cells": [
    {
      "cell_type": "markdown",
      "metadata": {
        "id": "view-in-github",
        "colab_type": "text"
      },
      "source": [
        "<a href=\"https://colab.research.google.com/github/SaraPMC/fiap-deep-learning/blob/main/TrabalhoFinal/Exercicio4/TrabalhoFinal_RedesNeuraisConvolucionais_Ex4.ipynb\" target=\"_parent\"><img src=\"https://colab.research.google.com/assets/colab-badge.svg\" alt=\"Open In Colab\"/></a>"
      ]
    },
    {
      "cell_type": "markdown",
      "source": [
        "**Redes Neurais Convolucionais**\n",
        "\n",
        "**Exercício #4**\n",
        "\n",
        "Utilizando o dataset Fashion MNIST, construa uma CNN para a classificação do dataset.\n",
        "\n",
        "Dicas:\n",
        "\n",
        "• Utilize a LetNet-5 como exemplo bem como o exemplo visto em sala de aula do dataset minst.\n",
        "\n",
        "• Utilize o comando (x_train, y_train), (x_test, y_test) = tf.keras.datasets.fashion_mnist.load_data() para carregar o dataset.\n",
        "\n",
        "• Os labels da classe são os seguintes:\n",
        "\n",
        "0 T-shirt/top | 1 Trouser | 2 Pullover | 3 Dress | 4 Coat | 5 Sandal      | 6 Shirt   | 7 Sneaker  | 8 Bag   | 9 Ankle boot"
      ],
      "metadata": {
        "id": "TAAPJfeHEFL6"
      }
    },
    {
      "cell_type": "code",
      "execution_count": null,
      "metadata": {
        "id": "wKphugNdAzIJ"
      },
      "outputs": [],
      "source": [
        "#Importando as bibliotecas\n",
        "from keras.datasets import fashion_mnist\n",
        "import matplotlib.pyplot as plt\n",
        "from keras.models import Sequential, load_model\n",
        "from keras.layers import Dense\n",
        "from keras.layers import Dropout\n",
        "from keras.layers import Flatten\n",
        "from keras.layers.convolutional import Conv2D\n",
        "from keras.layers.convolutional import MaxPooling2D\n",
        "from keras.utils import np_utils\n",
        "from keras import backend as K\n",
        "#from keras.preprocessing.image import img_to_array, load_img\n",
        "import numpy as np"
      ]
    },
    {
      "cell_type": "code",
      "execution_count": null,
      "metadata": {
        "colab": {
          "base_uri": "https://localhost:8080/"
        },
        "id": "mGJcC88tAzIP",
        "outputId": "49ee8da2-86f2-4dda-8a0a-15a98bf8523b"
      },
      "outputs": [
        {
          "name": "stdout",
          "output_type": "stream",
          "text": [
            "Downloading data from https://storage.googleapis.com/tensorflow/tf-keras-datasets/train-labels-idx1-ubyte.gz\n",
            "32768/29515 [=================================] - 0s 0us/step\n",
            "40960/29515 [=========================================] - 0s 0us/step\n",
            "Downloading data from https://storage.googleapis.com/tensorflow/tf-keras-datasets/train-images-idx3-ubyte.gz\n",
            "26427392/26421880 [==============================] - 0s 0us/step\n",
            "26435584/26421880 [==============================] - 1s 0us/step\n",
            "Downloading data from https://storage.googleapis.com/tensorflow/tf-keras-datasets/t10k-labels-idx1-ubyte.gz\n",
            "16384/5148 [===============================================================================================] - 0s 0us/step\n",
            "Downloading data from https://storage.googleapis.com/tensorflow/tf-keras-datasets/t10k-images-idx3-ubyte.gz\n",
            "4423680/4422102 [==============================] - 0s 0us/step\n",
            "4431872/4422102 [==============================] - 0s 0us/step\n"
          ]
        }
      ],
      "source": [
        "#Carrega os dados do dataset Minst\n",
        "(X_train, y_train), (X_test, y_test) = fashion_mnist.load_data()"
      ]
    },
    {
      "cell_type": "code",
      "execution_count": null,
      "metadata": {
        "colab": {
          "base_uri": "https://localhost:8080/"
        },
        "id": "T2UPh2sYk0VE",
        "outputId": "b3f496da-f464-4795-e2ee-8fec01dac7e1"
      },
      "outputs": [
        {
          "data": {
            "text/plain": [
              "{0, 1, 2, 3, 4, 5, 6, 7, 8, 9}"
            ]
          },
          "execution_count": 4,
          "metadata": {},
          "output_type": "execute_result"
        }
      ],
      "source": [
        "set(y_test)"
      ]
    },
    {
      "cell_type": "code",
      "execution_count": null,
      "metadata": {
        "colab": {
          "base_uri": "https://localhost:8080/"
        },
        "id": "WQdlI5X8lIXf",
        "outputId": "f70f4902-4a27-4489-d950-dace7f2e7c99"
      },
      "outputs": [
        {
          "data": {
            "text/plain": [
              "(60000, 28, 28)"
            ]
          },
          "execution_count": 5,
          "metadata": {},
          "output_type": "execute_result"
        }
      ],
      "source": [
        "X_train.shape"
      ]
    },
    {
      "cell_type": "code",
      "execution_count": null,
      "metadata": {
        "id": "S96xe6o8SGpk"
      },
      "outputs": [],
      "source": [
        "labels = [ 'T-shirt/top','Trouser','Pullover','Dress','Coat','Sandal','Shirt','Sneaker','Bag','Ankle boot'  ]"
      ]
    },
    {
      "cell_type": "code",
      "execution_count": null,
      "metadata": {
        "colab": {
          "base_uri": "https://localhost:8080/",
          "height": 212
        },
        "id": "5SvbmvpJlMKb",
        "outputId": "561b5aab-08af-4bf3-82e4-d71e30e05f28"
      },
      "outputs": [
        {
          "data": {
            "image/png": "[encoded data removed]",
            "text/plain": [
              "<Figure size 432x288 with 9 Axes>"
            ]
          },
          "metadata": {},
          "output_type": "display_data"
        }
      ],
      "source": [
        "classes = set(y_test)\n",
        "\n",
        "plt.figure(0)\n",
        "for c in classes:  \n",
        "  idx =  np.where(y_test == c) \n",
        "  if c + 1 == 10:\n",
        "    break  \n",
        "  plt.subplot(430 + 1 + c)\n",
        "  # plot raw pixel data\n",
        "  plt.imshow(X_test[idx[0][0]], cmap=plt.get_cmap('gray'))\n",
        "\n",
        "plt.show()"
      ]
    },
    {
      "cell_type": "code",
      "execution_count": null,
      "metadata": {
        "colab": {
          "base_uri": "https://localhost:8080/"
        },
        "id": "Q4GEmYpST2lV",
        "outputId": "b4c6e254-28ad-4a34-8d5f-5838ac6f7e93"
      },
      "outputs": [
        {
          "data": {
            "text/plain": [
              "(60000, 28, 28)"
            ]
          },
          "execution_count": 8,
          "metadata": {},
          "output_type": "execute_result"
        }
      ],
      "source": [
        "X_train.shape"
      ]
    },
    {
      "cell_type": "code",
      "execution_count": null,
      "metadata": {
        "colab": {
          "base_uri": "https://localhost:8080/"
        },
        "id": "L_AZyjhACz30",
        "outputId": "f0fe2a0d-f7e0-4d58-bc25-16335a0bfe60"
      },
      "outputs": [
        {
          "name": "stdout",
          "output_type": "stream",
          "text": [
            "[[  0   0   0   0   0   0   0   0   0   0   0   0   0   0   0   0   0   0\n",
            "    0   0   0   0   0   0   0   0   0   0]\n",
            " [  0   0   0   0   0   0   0   0   0   0   0   0   0   0   0   0   0   0\n",
            "    0   0   0   0   0   0   0   0   0   0]\n",
            " [  0   0   0   0   0   0   0   0   0   0   0   0   0   0   0   0   0   0\n",
            "    0   0   0   0   0   0   0   0   0   0]\n",
            " [  0   0   0   0   0   0   0   0   0   0   0   0   1   0   0  13  73   0\n",
            "    0   1   4   0   0   0   0   1   1   0]\n",
            " [  0   0   0   0   0   0   0   0   0   0   0   0   3   0  36 136 127  62\n",
            "   54   0   0   0   1   3   4   0   0   3]\n",
            " [  0   0   0   0   0   0   0   0   0   0   0   0   6   0 102 204 176 134\n",
            "  144 123  23   0   0   0   0  12  10   0]\n",
            " [  0   0   0   0   0   0   0   0   0   0   0   0   0   0 155 236 207 178\n",
            "  107 156 161 109  64  23  77 130  72  15]\n",
            " [  0   0   0   0   0   0   0   0   0   0   0   1   0  69 207 223 218 216\n",
            "  216 163 127 121 122 146 141  88 172  66]\n",
            " [  0   0   0   0   0   0   0   0   0   1   1   1   0 200 232 232 233 229\n",
            "  223 223 215 213 164 127 123 196 229   0]\n",
            " [  0   0   0   0   0   0   0   0   0   0   0   0   0 183 225 216 223 228\n",
            "  235 227 224 222 224 221 223 245 173   0]\n",
            " [  0   0   0   0   0   0   0   0   0   0   0   0   0 193 228 218 213 198\n",
            "  180 212 210 211 213 223 220 243 202   0]\n",
            " [  0   0   0   0   0   0   0   0   0   1   3   0  12 219 220 212 218 192\n",
            "  169 227 208 218 224 212 226 197 209  52]\n",
            " [  0   0   0   0   0   0   0   0   0   0   6   0  99 244 222 220 218 203\n",
            "  198 221 215 213 222 220 245 119 167  56]\n",
            " [  0   0   0   0   0   0   0   0   0   4   0   0  55 236 228 230 228 240\n",
            "  232 213 218 223 234 217 217 209  92   0]\n",
            " [  0   0   1   4   6   7   2   0   0   0   0   0 237 226 217 223 222 219\n",
            "  222 221 216 223 229 215 218 255  77   0]\n",
            " [  0   3   0   0   0   0   0   0   0  62 145 204 228 207 213 221 218 208\n",
            "  211 218 224 223 219 215 224 244 159   0]\n",
            " [  0   0   0   0  18  44  82 107 189 228 220 222 217 226 200 205 211 230\n",
            "  224 234 176 188 250 248 233 238 215   0]\n",
            " [  0  57 187 208 224 221 224 208 204 214 208 209 200 159 245 193 206 223\n",
            "  255 255 221 234 221 211 220 232 246   0]\n",
            " [  3 202 228 224 221 211 211 214 205 205 205 220 240  80 150 255 229 221\n",
            "  188 154 191 210 204 209 222 228 225   0]\n",
            " [ 98 233 198 210 222 229 229 234 249 220 194 215 217 241  65  73 106 117\n",
            "  168 219 221 215 217 223 223 224 229  29]\n",
            " [ 75 204 212 204 193 205 211 225 216 185 197 206 198 213 240 195 227 245\n",
            "  239 223 218 212 209 222 220 221 230  67]\n",
            " [ 48 203 183 194 213 197 185 190 194 192 202 214 219 221 220 236 225 216\n",
            "  199 206 186 181 177 172 181 205 206 115]\n",
            " [  0 122 219 193 179 171 183 196 204 210 213 207 211 210 200 196 194 191\n",
            "  195 191 198 192 176 156 167 177 210  92]\n",
            " [  0   0  74 189 212 191 175 172 175 181 185 188 189 188 193 198 204 209\n",
            "  210 210 211 188 188 194 192 216 170   0]\n",
            " [  2   0   0   0  66 200 222 237 239 242 246 243 244 221 220 193 191 179\n",
            "  182 182 181 176 166 168  99  58   0   0]\n",
            " [  0   0   0   0   0   0   0  40  61  44  72  41  35   0   0   0   0   0\n",
            "    0   0   0   0   0   0   0   0   0   0]\n",
            " [  0   0   0   0   0   0   0   0   0   0   0   0   0   0   0   0   0   0\n",
            "    0   0   0   0   0   0   0   0   0   0]\n",
            " [  0   0   0   0   0   0   0   0   0   0   0   0   0   0   0   0   0   0\n",
            "    0   0   0   0   0   0   0   0   0   0]]\n"
          ]
        }
      ],
      "source": [
        "print(X_train[0])"
      ]
    },
    {
      "cell_type": "code",
      "execution_count": null,
      "metadata": {
        "colab": {
          "base_uri": "https://localhost:8080/"
        },
        "id": "4yZhVcz8Cz6E",
        "outputId": "019f9e03-1bb9-4e29-87a1-03c4c180d1dc"
      },
      "outputs": [
        {
          "data": {
            "text/plain": [
              "(10000, 28, 28, 1)"
            ]
          },
          "execution_count": 11,
          "metadata": {},
          "output_type": "execute_result"
        }
      ],
      "source": [
        "X_test.shape"
      ]
    },
    {
      "cell_type": "code",
      "execution_count": null,
      "metadata": {
        "colab": {
          "base_uri": "https://localhost:8080/"
        },
        "id": "ty7eZAnaDkwp",
        "outputId": "fe8b60e0-bd78-4e78-acd2-9f2af724f397"
      },
      "outputs": [
        {
          "data": {
            "text/plain": [
              "array([9, 0, 0, ..., 3, 0, 5], dtype=uint8)"
            ]
          },
          "execution_count": 12,
          "metadata": {},
          "output_type": "execute_result"
        }
      ],
      "source": [
        "y_train"
      ]
    },
    {
      "cell_type": "code",
      "execution_count": null,
      "metadata": {
        "colab": {
          "base_uri": "https://localhost:8080/"
        },
        "id": "K4ZhK_MGCz-8",
        "outputId": "d10783c0-a80a-49ce-a07d-69213d301e9f"
      },
      "outputs": [
        {
          "name": "stdout",
          "output_type": "stream",
          "text": [
            "(28, 28, 1)\n"
          ]
        }
      ],
      "source": [
        "img_rows, img_cols = 28, 28\n",
        "\n",
        "X_train = X_train.reshape(X_train.shape[0], img_rows, img_cols, 1)\n",
        "X_test = X_test.reshape(X_test.shape[0], img_rows, img_cols, 1)\n",
        "input_shape = (img_rows, img_cols, 1)\n",
        "print(input_shape)\n",
        "\n",
        "\n",
        "# Normaliza as entradas de 0-255 para 0-1\n",
        "X_train = X_train / 255\n",
        "X_test = X_test / 255\n",
        "\n",
        "#converter a matriz de \n",
        "#amostra,dimensão e canal = tensor"
      ]
    },
    {
      "cell_type": "code",
      "execution_count": null,
      "metadata": {
        "id": "NFnCq_xFC0BB"
      },
      "outputs": [],
      "source": [
        "# Gera os vetores com as classes do conjunto de dados de treinamento e teste\n",
        "y_train = np_utils.to_categorical(y_train)\n",
        "y_test = np_utils.to_categorical(y_test)\n",
        "\n",
        "#converter vetor y em variaveis binárias (to.category)\n",
        "num_classes = y_test.shape[1]"
      ]
    },
    {
      "cell_type": "code",
      "execution_count": null,
      "metadata": {
        "colab": {
          "base_uri": "https://localhost:8080/"
        },
        "id": "uvu2RZQjC0DJ",
        "outputId": "72b43d45-5537-4d71-999d-c18c5ca86e9e"
      },
      "outputs": [
        {
          "name": "stdout",
          "output_type": "stream",
          "text": [
            "(60000, 28, 28, 1)\n",
            "(60000, 10)\n",
            "(10000, 28, 28, 1)\n",
            "(10000, 10)\n"
          ]
        }
      ],
      "source": [
        "print(X_train.shape)\n",
        "print(y_train.shape)\n",
        "print(X_test.shape)\n",
        "print(y_test.shape)"
      ]
    },
    {
      "cell_type": "code",
      "execution_count": null,
      "metadata": {
        "colab": {
          "base_uri": "https://localhost:8080/"
        },
        "id": "o1lW_H0oC0FO",
        "outputId": "e34b0016-882b-4df9-9da9-fc456b906d66"
      },
      "outputs": [
        {
          "data": {
            "text/plain": [
              "array([[0., 0., 0., ..., 0., 0., 1.],\n",
              "       [1., 0., 0., ..., 0., 0., 0.],\n",
              "       [1., 0., 0., ..., 0., 0., 0.],\n",
              "       ...,\n",
              "       [0., 0., 0., ..., 0., 0., 0.],\n",
              "       [1., 0., 0., ..., 0., 0., 0.],\n",
              "       [0., 0., 0., ..., 0., 0., 0.]], dtype=float32)"
            ]
          },
          "execution_count": 16,
          "metadata": {},
          "output_type": "execute_result"
        }
      ],
      "source": [
        "y_train"
      ]
    },
    {
      "cell_type": "code",
      "execution_count": null,
      "metadata": {
        "colab": {
          "base_uri": "https://localhost:8080/"
        },
        "id": "Uc4Xyt5kC0Hl",
        "outputId": "a4d712e8-6010-4151-bc61-4fd3627a30a5"
      },
      "outputs": [
        {
          "name": "stdout",
          "output_type": "stream",
          "text": [
            "(None, 24, 24, 32)\n",
            "(None, 12, 12, 32)\n",
            "(None, 8, 8, 64)\n",
            "(None, 4, 4, 64)\n",
            "(None, 1024)\n",
            "(None, 32)\n",
            "(None, 16)\n",
            "(None, 10)\n"
          ]
        }
      ],
      "source": [
        "# Cria o modelo\n",
        "model = Sequential()\n",
        "\n",
        "#Convolução 2D com função de ativação Rectified Linear Units 32 kernels/Pesos (filtros)\n",
        "#32 imagens de tamanho de 5/5 \n",
        "model.add(Conv2D(32, (5, 5), input_shape=(28, 28, 1), activation='relu'))#\n",
        "print( model.output_shape)\n",
        "\n",
        "#Camada de Pooling \t  \n",
        "#pegar pixel max  \n",
        "model.add(MaxPooling2D(pool_size=(2, 2)))\n",
        "print( model.output_shape)\n",
        "\n",
        "#Convolução 2D com função de ativação Rectified Linear Units 64 kernels/Pesos (filtros) \n",
        "#64 filtros com tamanho de 5/5\n",
        "model.add(Conv2D(64, (5, 5), activation='relu'))\n",
        "print( model.output_shape)\n",
        "\n",
        "#Camada de Pooling \t\n",
        "model.add(MaxPooling2D(pool_size=(2, 2)))\n",
        "print( model.output_shape)\n",
        "\n",
        "#Remove 20% das ativações de entrada aleatoriamente \n",
        "#para prevenir overfitting\n",
        "model.add(Dropout(0.2))\n",
        "\n",
        "#Converte o conjunto de imagens e um vetor unidimensional para a entrada da rede neural totalmente conectada\n",
        "model.add(Flatten())\n",
        "print( model.output_shape)\n",
        "\n",
        "model.add(Dense(32, activation='relu'))\n",
        "print( model.output_shape)\n",
        "model.add(Dense(16, activation='relu'))\n",
        "print( model.output_shape)\n",
        "\n",
        "#Função de Ativação Softmax (segmmoid probabilistica)\n",
        "model.add(Dense(num_classes, activation='softmax'))\n",
        "print( model.output_shape)"
      ]
    },
    {
      "cell_type": "code",
      "execution_count": null,
      "metadata": {
        "id": "y9UjEtUSC0J5"
      },
      "outputs": [],
      "source": [
        "model.compile(loss='categorical_crossentropy', optimizer='adam', metrics=['accuracy'])"
      ]
    },
    {
      "cell_type": "code",
      "execution_count": null,
      "metadata": {
        "colab": {
          "background_save": true,
          "base_uri": "https://localhost:8080/"
        },
        "id": "IwmcdqpRDUce",
        "outputId": "e8893bef-a48a-42bf-9e2b-80ef3ec2c069"
      },
      "outputs": [
        {
          "name": "stdout",
          "output_type": "stream",
          "text": [
            "Epoch 1/20\n",
            "96/96 [==============================] - 3s 28ms/step - loss: 0.5280 - accuracy: 0.8054 - val_loss: 0.5047 - val_accuracy: 0.8117\n",
            "Epoch 2/20\n",
            "96/96 [==============================] - 3s 27ms/step - loss: 0.5198 - accuracy: 0.8087 - val_loss: 0.4935 - val_accuracy: 0.8192\n",
            "Epoch 3/20\n",
            "96/96 [==============================] - 2s 26ms/step - loss: 0.5113 - accuracy: 0.8118 - val_loss: 0.4794 - val_accuracy: 0.8246\n",
            "Epoch 4/20\n",
            "96/96 [==============================] - 2s 26ms/step - loss: 0.5032 - accuracy: 0.8144 - val_loss: 0.4727 - val_accuracy: 0.8260\n",
            "Epoch 5/20\n",
            "96/96 [==============================] - 3s 27ms/step - loss: 0.4952 - accuracy: 0.8189 - val_loss: 0.4663 - val_accuracy: 0.8296\n",
            "Epoch 6/20\n",
            "96/96 [==============================] - 3s 27ms/step - loss: 0.4887 - accuracy: 0.8224 - val_loss: 0.4665 - val_accuracy: 0.8296\n",
            "Epoch 7/20\n",
            "96/96 [==============================] - 3s 27ms/step - loss: 0.4810 - accuracy: 0.8238 - val_loss: 0.4556 - val_accuracy: 0.8336\n",
            "Epoch 8/20\n",
            "96/96 [==============================] - 2s 26ms/step - loss: 0.4758 - accuracy: 0.8263 - val_loss: 0.4558 - val_accuracy: 0.8336\n",
            "Epoch 9/20\n",
            "96/96 [==============================] - 3s 27ms/step - loss: 0.4708 - accuracy: 0.8272 - val_loss: 0.4483 - val_accuracy: 0.8367\n",
            "Epoch 10/20\n",
            "96/96 [==============================] - 3s 27ms/step - loss: 0.4648 - accuracy: 0.8300 - val_loss: 0.4459 - val_accuracy: 0.8367\n",
            "Epoch 11/20\n",
            "96/96 [==============================] - 2s 26ms/step - loss: 0.4583 - accuracy: 0.8344 - val_loss: 0.4407 - val_accuracy: 0.8409\n",
            "Epoch 12/20\n",
            "96/96 [==============================] - 2s 26ms/step - loss: 0.4565 - accuracy: 0.8342 - val_loss: 0.4331 - val_accuracy: 0.8423\n",
            "Epoch 13/20\n",
            "96/96 [==============================] - 2s 25ms/step - loss: 0.4504 - accuracy: 0.8361 - val_loss: 0.4333 - val_accuracy: 0.8435\n",
            "Epoch 14/20\n",
            "96/96 [==============================] - 2s 26ms/step - loss: 0.4493 - accuracy: 0.8361 - val_loss: 0.4272 - val_accuracy: 0.8476\n",
            "Epoch 15/20\n",
            "96/96 [==============================] - 2s 26ms/step - loss: 0.4426 - accuracy: 0.8388 - val_loss: 0.4224 - val_accuracy: 0.8475\n",
            "Epoch 16/20\n",
            "96/96 [==============================] - 3s 27ms/step - loss: 0.4392 - accuracy: 0.8400 - val_loss: 0.4200 - val_accuracy: 0.8494\n",
            "Epoch 17/20\n",
            "96/96 [==============================] - 2s 25ms/step - loss: 0.4342 - accuracy: 0.8412 - val_loss: 0.4152 - val_accuracy: 0.8506\n",
            "Epoch 18/20\n",
            "96/96 [==============================] - 3s 27ms/step - loss: 0.4316 - accuracy: 0.8446 - val_loss: 0.4143 - val_accuracy: 0.8507\n",
            "Epoch 19/20\n",
            "96/96 [==============================] - 3s 27ms/step - loss: 0.4275 - accuracy: 0.8451 - val_loss: 0.4116 - val_accuracy: 0.8508\n",
            "Epoch 20/20\n",
            "96/96 [==============================] - 3s 26ms/step - loss: 0.4246 - accuracy: 0.8443 - val_loss: 0.4073 - val_accuracy: 0.8538\n"
          ]
        }
      ],
      "source": [
        "history = model.fit(X_train, y_train, validation_split = 0.2, epochs=20, batch_size=500)"
      ]
    },
    {
      "cell_type": "code",
      "execution_count": null,
      "metadata": {
        "colab": {
          "base_uri": "https://localhost:8080/",
          "height": 295
        },
        "id": "zOjHgxR9DUe4",
        "outputId": "ad770ca1-f5c7-46ae-9875-fe4b52eebabf"
      },
      "outputs": [
        {
          "data": {
            "image/png": "[encoded data removed]",
            "text/plain": [
              "<Figure size 432x288 with 1 Axes>"
            ]
          },
          "metadata": {},
          "output_type": "display_data"
        }
      ],
      "source": [
        "#Plota o grafico com a acuracia\n",
        "plt.figure(1)\n",
        "plt.plot(history.history['accuracy'])\n",
        "plt.plot(history.history['val_accuracy'])\n",
        "plt.title('model accuracy')\n",
        "plt.ylabel('accuracy')\n",
        "plt.xlabel('epoch')\n",
        "plt.legend(['train', 'validation'], loc='upper left')\n",
        "plt.show()"
      ]
    },
    {
      "cell_type": "code",
      "execution_count": null,
      "metadata": {
        "colab": {
          "base_uri": "https://localhost:8080/"
        },
        "id": "vuVT885RDUhN",
        "outputId": "f45db7e3-6e28-4e65-c2b3-e6ef8628d454"
      },
      "outputs": [
        {
          "name": "stdout",
          "output_type": "stream",
          "text": [
            "Erro da CNN: 19.20%\n",
            "Acurária da CNN: 80.80%\n"
          ]
        }
      ],
      "source": [
        "#Erro e Acuracia\n",
        "scores = model.evaluate(X_test, y_test, verbose=0)\n",
        "print(\"Erro da CNN: %.2f%%\" % (100-scores[1]*100))\n",
        "print(\"Acurária da CNN: %.2f%%\" % (scores[1]*100))"
      ]
    },
    {
      "cell_type": "code",
      "execution_count": null,
      "metadata": {
        "colab": {
          "base_uri": "https://localhost:8080/"
        },
        "id": "BlWOTa09DUjf",
        "outputId": "7ddd7bc4-dff3-465c-be35-d86991e8c1f6"
      },
      "outputs": [
        {
          "data": {
            "text/plain": [
              "[0.525545060634613, 0.8080000281333923]"
            ]
          },
          "execution_count": 22,
          "metadata": {},
          "output_type": "execute_result"
        }
      ],
      "source": [
        "scores"
      ]
    },
    {
      "cell_type": "code",
      "execution_count": null,
      "metadata": {
        "id": "Sqnt2-qEDdo0"
      },
      "outputs": [],
      "source": [
        "model.save('MNIST.hdf5')"
      ]
    },
    {
      "cell_type": "code",
      "execution_count": null,
      "metadata": {
        "id": "imXCJ1FvDUmH"
      },
      "outputs": [],
      "source": [
        "model_loaded  = load_model('MNIST.hdf5')"
      ]
    }
  ],
  "metadata": {
    "accelerator": "GPU",
    "colab": {
      "provenance": [],
      "include_colab_link": true
    },
    "kernelspec": {
      "display_name": "Python 3",
      "language": "python",
      "name": "python3"
    },
    "language_info": {
      "codemirror_mode": {
        "name": "ipython",
        "version": 3
      },
      "file_extension": ".py",
      "mimetype": "text/x-python",
      "name": "python",
      "nbconvert_exporter": "python",
      "pygments_lexer": "ipython3",
      "version": "3.7.7"
    }
  },
  "nbformat": 4,
  "nbformat_minor": 0
}