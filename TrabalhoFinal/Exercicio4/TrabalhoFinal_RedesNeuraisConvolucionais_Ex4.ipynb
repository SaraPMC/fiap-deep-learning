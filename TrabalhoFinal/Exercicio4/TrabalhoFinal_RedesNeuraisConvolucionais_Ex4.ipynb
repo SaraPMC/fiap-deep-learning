{
  "nbformat": 4,
  "nbformat_minor": 0,
  "metadata": {
    "colab": {
      "provenance": [],
      "collapsed_sections": []
    },
    "kernelspec": {
      "name": "python3",
      "display_name": "Python 3"
    },
    "language_info": {
      "name": "python"
    }
  },
  "cells": [
    {
      "cell_type": "markdown",
      "source": [
        "**Redes Neurais Convolucionais**\n",
        "\n",
        "**Exercício #4**\n",
        "\n",
        "Utilizando o dataset Fashion MNIST, construa uma CNN para a classificação do dataset.\n",
        "\n",
        "Dicas:\n",
        "\n",
        "• Utilize a LetNet-5 como exemplo bem como o exemplo visto em sala de aula do dataset minst.\n",
        "\n",
        "• Utilize o comando (x_train, y_train), (x_test, y_test) = tf.keras.datasets.fashion_mnist.load_data() para carregar o dataset.\n",
        "\n",
        "• Os labels da classe são os seguintes:\n",
        "\n",
        "0 T-shirt/top\n",
        "\n",
        "1 Trouser\n",
        "\n",
        "2 Pullover\n",
        "\n",
        "3 Dress\n",
        "\n",
        "4 Coat\n",
        "\n",
        "5 Sandal\n",
        "\n",
        "6 Shirt\n",
        "\n",
        "7 Sneaker\n",
        "\n",
        "8 Bag\n",
        "\n",
        "9 Ankle boot"
      ],
      "metadata": {
        "id": "VALuG4vxl85g"
      }
    },
    {
      "cell_type": "code",
      "execution_count": null,
      "metadata": {
        "id": "fKwu9AOXl7OY"
      },
      "outputs": [],
      "source": []
    }
  ]
}