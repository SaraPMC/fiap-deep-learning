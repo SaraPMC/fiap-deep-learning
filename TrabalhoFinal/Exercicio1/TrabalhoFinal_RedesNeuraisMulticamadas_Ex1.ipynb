{
  "nbformat": 4,
  "nbformat_minor": 0,
  "metadata": {
    "colab": {
      "provenance": [],
      "collapsed_sections": [],
      "authorship_tag": "ABX9TyOOqGmLSsy1b1CF/A0abMro",
      "include_colab_link": true
    },
    "kernelspec": {
      "name": "python3",
      "display_name": "Python 3"
    },
    "language_info": {
      "name": "python"
    }
  },
  "cells": [
    {
      "cell_type": "markdown",
      "metadata": {
        "id": "view-in-github",
        "colab_type": "text"
      },
      "source": [
        "<a href=\"https://colab.research.google.com/github/SaraPMC/fiap-deep-learning/blob/main/TrabalhoFinal/Exercicio1/TrabalhoFinal_RedesNeuraisMulticamadas_Ex1.ipynb\" target=\"_parent\"><img src=\"https://colab.research.google.com/assets/colab-badge.svg\" alt=\"Open In Colab\"/></a>"
      ]
    },
    {
      "cell_type": "markdown",
      "source": [
        "**Redes Neurais Multicamadas**\n",
        "\n",
        "**Exercício #1**\n",
        "\n",
        "Utilizando as bibliotecas do Keras e TensorFlow faça:\n",
        "\n",
        "• Utilizando do dataset Iris (embarcado no scikit-learn, from sklearn\n",
        "import datasets - datasets.load_iris() ), configure uma Rede Neural MLP\n",
        "para classificar as amostras de plantas nas 3 classes presentes no\n",
        "dataset.\n",
        "\n",
        "• Utilizando o dataset Heart Disease UCI (disponível no repositório da\n",
        "disciplina e em https://www.kaggle.com/ronitf/heart-disease-uci)\n",
        "configure uma Rede Neural MLP que classifique as amostras em\n",
        "saudáveis (coluna target =0) ou não.\n",
        "\n",
        "• Utilizando o dataset Pulsar Star (disponível no repositório da disciplina e\n",
        "em https://www.kaggle.com/pavanraj159/predicting-a-pulsar-star/)\n",
        "construa uma Rede Neural MLP que classifique as amostras em\n",
        "estrelas de nêutrons ou não."
      ],
      "metadata": {
        "id": "OEqzXPv6TK1u"
      }
    },
    {
      "cell_type": "markdown",
      "source": [
        "**Obs.:** os links para os datasets acima está dando 404 not found! Encontramos outros no site https://www.kaggle.com\n",
        "\n",
        "* Heart Disease UCI: https://www.kaggle.com/datasets/redwankarimsony/heart-disease-data\n",
        "\n",
        "\n",
        "* Pulsar Star: https://www.kaggle.com/datasets/colearninglounge/predicting-pulsar-starintermediate"
      ],
      "metadata": {
        "id": "bc3MH7Bzaw5u"
      }
    },
    {
      "cell_type": "code",
      "execution_count": 14,
      "metadata": {
        "id": "BnMkeIhDTJ97"
      },
      "outputs": [],
      "source": [
        "#importando as bibliotecas Keras, TonsorFlow e Scikit-learn\n",
        "import keras\n",
        "import tensorflow\n",
        "from sklearn import datasets\n",
        "import pandas as pd"
      ]
    },
    {
      "cell_type": "code",
      "source": [
        "#Utilizando do dataset Iris (embarcado no scikit-learn, from sklearn import datasets - \n",
        "#datasets.load_iris() ), configure uma Rede Neural MLP para classificar as amostras de \n",
        "#plantas nas 3 classes presentes no dataset.\n",
        "\n",
        "#importando o dataset iris\n",
        "iris = datasets.load_iris()\n",
        "x = pd.DataFrame(iris.data, columns = iris.feature_names)\n",
        "y = iris.target\n"
      ],
      "metadata": {
        "id": "h0os3zg2xvyL"
      },
      "execution_count": 19,
      "outputs": []
    }
  ]
}