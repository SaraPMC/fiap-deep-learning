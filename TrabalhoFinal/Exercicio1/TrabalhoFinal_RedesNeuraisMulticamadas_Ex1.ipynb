{
  "nbformat": 4,
  "nbformat_minor": 0,
  "metadata": {
    "colab": {
      "provenance": [],
      "collapsed_sections": [
        "GG0w8jIETVvn",
        "_qd0yPJ0Tx9j"
      ],
      "authorship_tag": "ABX9TyP1oMK8nSvvPPTRk80GYK22",
      "include_colab_link": true
    },
    "kernelspec": {
      "name": "python3",
      "display_name": "Python 3"
    },
    "language_info": {
      "name": "python"
    }
  },
  "cells": [
    {
      "cell_type": "markdown",
      "metadata": {
        "id": "view-in-github",
        "colab_type": "text"
      },
      "source": [
        "<a href=\"https://colab.research.google.com/github/SaraPMC/fiap-deep-learning/blob/main/TrabalhoFinal/Exercicio1/TrabalhoFinal_RedesNeuraisMulticamadas_Ex1.ipynb\" target=\"_parent\"><img src=\"https://colab.research.google.com/assets/colab-badge.svg\" alt=\"Open In Colab\"/></a>"
      ]
    },
    {
      "cell_type": "markdown",
      "source": [
        "**Redes Neurais Multicamadas**\n",
        "\n",
        "**Exercício #1**\n",
        "\n",
        "Utilizando as bibliotecas do Keras e TensorFlow faça:\n",
        "\n",
        "• Utilizando do dataset Iris (embarcado no scikit-learn, from sklearn\n",
        "import datasets - datasets.load_iris() ), configure uma Rede Neural MLP\n",
        "para classificar as amostras de plantas nas 3 classes presentes no\n",
        "dataset.\n",
        "\n",
        "• Utilizando o dataset Heart Disease UCI (disponível no repositório da\n",
        "disciplina e em https://www.kaggle.com/ronitf/heart-disease-uci)\n",
        "configure uma Rede Neural MLP que classifique as amostras em\n",
        "saudáveis (coluna target =0) ou não.\n",
        "\n",
        "• Utilizando o dataset Pulsar Star (disponível no repositório da disciplina e\n",
        "em https://www.kaggle.com/pavanraj159/predicting-a-pulsar-star/)\n",
        "construa uma Rede Neural MLP que classifique as amostras em\n",
        "estrelas de nêutrons ou não."
      ],
      "metadata": {
        "id": "OEqzXPv6TK1u"
      }
    },
    {
      "cell_type": "markdown",
      "source": [
        "**Obs.:** os links para os datasets acima está dando 404 not found! Encontramos outros no site https://www.kaggle.com\n",
        "\n",
        "* Heart Disease UCI: https://www.kaggle.com/datasets/ketangangal/heart-disease-dataset-uci\n",
        "\n",
        "\n",
        "* Pulsar Star: https://www.kaggle.com/datasets/colearninglounge/predicting-pulsar-starintermediate"
      ],
      "metadata": {
        "id": "bc3MH7Bzaw5u"
      }
    },
    {
      "cell_type": "markdown",
      "source": [
        "# Classificação das amostras de plantas do dataset Iris"
      ],
      "metadata": {
        "id": "GG0w8jIETVvn"
      }
    },
    {
      "cell_type": "code",
      "execution_count": 1,
      "metadata": {
        "id": "BnMkeIhDTJ97"
      },
      "outputs": [],
      "source": [
        "#importando as bibliotecas\n",
        "from sklearn import datasets\n",
        "import pandas as pd \n",
        "\n",
        "from sklearn.model_selection import train_test_split\n",
        "from sklearn.preprocessing import StandardScaler\n",
        "\n",
        "from sklearn.neural_network import MLPClassifier\n",
        "\n",
        "from sklearn.metrics import plot_confusion_matrix\n",
        "import matplotlib.pyplot as plt"
      ]
    },
    {
      "cell_type": "code",
      "source": [
        "#Importando o dataset iris\n",
        "iris = datasets.load_iris()"
      ],
      "metadata": {
        "id": "h0os3zg2xvyL"
      },
      "execution_count": 2,
      "outputs": []
    },
    {
      "cell_type": "code",
      "source": [
        "#Separando os dados em X e y, os valores das caracteristicas independentes e dependentes\n",
        "X = pd.DataFrame(iris.data, columns = iris.feature_names)\n",
        "y = iris.target"
      ],
      "metadata": {
        "id": "Y4k-J4c36YxO"
      },
      "execution_count": 3,
      "outputs": []
    },
    {
      "cell_type": "code",
      "source": [
        "X.head()"
      ],
      "metadata": {
        "colab": {
          "base_uri": "https://localhost:8080/",
          "height": 206
        },
        "id": "QLvWbk8N7AEy",
        "outputId": "d7524533-11bf-497d-e13e-e2744a84bf47"
      },
      "execution_count": 4,
      "outputs": [
        {
          "output_type": "execute_result",
          "data": {
            "text/plain": [
              "   sepal length (cm)  sepal width (cm)  petal length (cm)  petal width (cm)\n",
              "0                5.1               3.5                1.4               0.2\n",
              "1                4.9               3.0                1.4               0.2\n",
              "2                4.7               3.2                1.3               0.2\n",
              "3                4.6               3.1                1.5               0.2\n",
              "4                5.0               3.6                1.4               0.2"
            ],
            "text/html": [
              "\n",
              "  <div id=\"df-5a65b933-3810-4e46-a4d1-4fde84c185f9\">\n",
              "    <div class=\"colab-df-container\">\n",
              "      <div>\n",
              "<style scoped>\n",
              "    .dataframe tbody tr th:only-of-type {\n",
              "        vertical-align: middle;\n",
              "    }\n",
              "\n",
              "    .dataframe tbody tr th {\n",
              "        vertical-align: top;\n",
              "    }\n",
              "\n",
              "    .dataframe thead th {\n",
              "        text-align: right;\n",
              "    }\n",
              "</style>\n",
              "<table border=\"1\" class=\"dataframe\">\n",
              "  <thead>\n",
              "    <tr style=\"text-align: right;\">\n",
              "      <th></th>\n",
              "      <th>sepal length (cm)</th>\n",
              "      <th>sepal width (cm)</th>\n",
              "      <th>petal length (cm)</th>\n",
              "      <th>petal width (cm)</th>\n",
              "    </tr>\n",
              "  </thead>\n",
              "  <tbody>\n",
              "    <tr>\n",
              "      <th>0</th>\n",
              "      <td>5.1</td>\n",
              "      <td>3.5</td>\n",
              "      <td>1.4</td>\n",
              "      <td>0.2</td>\n",
              "    </tr>\n",
              "    <tr>\n",
              "      <th>1</th>\n",
              "      <td>4.9</td>\n",
              "      <td>3.0</td>\n",
              "      <td>1.4</td>\n",
              "      <td>0.2</td>\n",
              "    </tr>\n",
              "    <tr>\n",
              "      <th>2</th>\n",
              "      <td>4.7</td>\n",
              "      <td>3.2</td>\n",
              "      <td>1.3</td>\n",
              "      <td>0.2</td>\n",
              "    </tr>\n",
              "    <tr>\n",
              "      <th>3</th>\n",
              "      <td>4.6</td>\n",
              "      <td>3.1</td>\n",
              "      <td>1.5</td>\n",
              "      <td>0.2</td>\n",
              "    </tr>\n",
              "    <tr>\n",
              "      <th>4</th>\n",
              "      <td>5.0</td>\n",
              "      <td>3.6</td>\n",
              "      <td>1.4</td>\n",
              "      <td>0.2</td>\n",
              "    </tr>\n",
              "  </tbody>\n",
              "</table>\n",
              "</div>\n",
              "      <button class=\"colab-df-convert\" onclick=\"convertToInteractive('df-5a65b933-3810-4e46-a4d1-4fde84c185f9')\"\n",
              "              title=\"Convert this dataframe to an interactive table.\"\n",
              "              style=\"display:none;\">\n",
              "        \n",
              "  <svg xmlns=\"http://www.w3.org/2000/svg\" height=\"24px\"viewBox=\"0 0 24 24\"\n",
              "       width=\"24px\">\n",
              "    <path d=\"M0 0h24v24H0V0z\" fill=\"none\"/>\n",
              "    <path d=\"M18.56 5.44l.94 2.06.94-2.06 2.06-.94-2.06-.94-.94-2.06-.94 2.06-2.06.94zm-11 1L8.5 8.5l.94-2.06 2.06-.94-2.06-.94L8.5 2.5l-.94 2.06-2.06.94zm10 10l.94 2.06.94-2.06 2.06-.94-2.06-.94-.94-2.06-.94 2.06-2.06.94z\"/><path d=\"M17.41 7.96l-1.37-1.37c-.4-.4-.92-.59-1.43-.59-.52 0-1.04.2-1.43.59L10.3 9.45l-7.72 7.72c-.78.78-.78 2.05 0 2.83L4 21.41c.39.39.9.59 1.41.59.51 0 1.02-.2 1.41-.59l7.78-7.78 2.81-2.81c.8-.78.8-2.07 0-2.86zM5.41 20L4 18.59l7.72-7.72 1.47 1.35L5.41 20z\"/>\n",
              "  </svg>\n",
              "      </button>\n",
              "      \n",
              "  <style>\n",
              "    .colab-df-container {\n",
              "      display:flex;\n",
              "      flex-wrap:wrap;\n",
              "      gap: 12px;\n",
              "    }\n",
              "\n",
              "    .colab-df-convert {\n",
              "      background-color: #E8F0FE;\n",
              "      border: none;\n",
              "      border-radius: 50%;\n",
              "      cursor: pointer;\n",
              "      display: none;\n",
              "      fill: #1967D2;\n",
              "      height: 32px;\n",
              "      padding: 0 0 0 0;\n",
              "      width: 32px;\n",
              "    }\n",
              "\n",
              "    .colab-df-convert:hover {\n",
              "      background-color: #E2EBFA;\n",
              "      box-shadow: 0px 1px 2px rgba(60, 64, 67, 0.3), 0px 1px 3px 1px rgba(60, 64, 67, 0.15);\n",
              "      fill: #174EA6;\n",
              "    }\n",
              "\n",
              "    [theme=dark] .colab-df-convert {\n",
              "      background-color: #3B4455;\n",
              "      fill: #D2E3FC;\n",
              "    }\n",
              "\n",
              "    [theme=dark] .colab-df-convert:hover {\n",
              "      background-color: #434B5C;\n",
              "      box-shadow: 0px 1px 3px 1px rgba(0, 0, 0, 0.15);\n",
              "      filter: drop-shadow(0px 1px 2px rgba(0, 0, 0, 0.3));\n",
              "      fill: #FFFFFF;\n",
              "    }\n",
              "  </style>\n",
              "\n",
              "      <script>\n",
              "        const buttonEl =\n",
              "          document.querySelector('#df-5a65b933-3810-4e46-a4d1-4fde84c185f9 button.colab-df-convert');\n",
              "        buttonEl.style.display =\n",
              "          google.colab.kernel.accessAllowed ? 'block' : 'none';\n",
              "\n",
              "        async function convertToInteractive(key) {\n",
              "          const element = document.querySelector('#df-5a65b933-3810-4e46-a4d1-4fde84c185f9');\n",
              "          const dataTable =\n",
              "            await google.colab.kernel.invokeFunction('convertToInteractive',\n",
              "                                                     [key], {});\n",
              "          if (!dataTable) return;\n",
              "\n",
              "          const docLinkHtml = 'Like what you see? Visit the ' +\n",
              "            '<a target=\"_blank\" href=https://colab.research.google.com/notebooks/data_table.ipynb>data table notebook</a>'\n",
              "            + ' to learn more about interactive tables.';\n",
              "          element.innerHTML = '';\n",
              "          dataTable['output_type'] = 'display_data';\n",
              "          await google.colab.output.renderOutput(dataTable, element);\n",
              "          const docLink = document.createElement('div');\n",
              "          docLink.innerHTML = docLinkHtml;\n",
              "          element.appendChild(docLink);\n",
              "        }\n",
              "      </script>\n",
              "    </div>\n",
              "  </div>\n",
              "  "
            ]
          },
          "metadata": {},
          "execution_count": 4
        }
      ]
    },
    {
      "cell_type": "code",
      "source": [
        "#Separando entre treino e teste, onde 30% do conjunto é reservado para verificar a precisão do modelo\n",
        "X_train, X_test, y_train, y_test = train_test_split(X, y, random_state=1, test_size=0.3)\n",
        "sc_X = StandardScaler()\n",
        "X_trainscaled = sc_X.fit_transform(X_train)\n",
        "X_testscaled = sc_X.transform(X_test)"
      ],
      "metadata": {
        "id": "yXd6zf5u5Erd"
      },
      "execution_count": 5,
      "outputs": []
    },
    {
      "cell_type": "code",
      "source": [
        "#Modelagem de 4 camadas ocultas com neuronios diferentes.\n",
        "#Totalizando 6 camadas considerando as de entrada/saida\n",
        "clf = MLPClassifier(hidden_layer_sizes=(256,128,64,32), activation=\"relu\", random_state=1).fit(X_trainscaled, y_train)\n",
        "y_pred=clf.predict(X_testscaled)\n",
        "print(clf.score(X_testscaled, y_test))"
      ],
      "metadata": {
        "colab": {
          "base_uri": "https://localhost:8080/"
        },
        "id": "3b5E4sD65L9l",
        "outputId": "8352f6f4-6eaf-4345-e50f-5ba790d5630c"
      },
      "execution_count": 6,
      "outputs": [
        {
          "output_type": "stream",
          "name": "stdout",
          "text": [
            "0.9555555555555556\n"
          ]
        }
      ]
    },
    {
      "cell_type": "code",
      "source": [
        "#Desenhando uma matriz de confusão para entender a classificação\n",
        "fig=plot_confusion_matrix(clf, X_testscaled, y_test,display_labels=[\"Setosa\", \"Versicolor\", \"Virginica\"])\n",
        "fig.figure_.suptitle(\"Matriz de Confusão (Dataset Iris)\")\n",
        "plt.show()"
      ],
      "metadata": {
        "colab": {
          "base_uri": "https://localhost:8080/",
          "height": 363
        },
        "id": "P1jYEooD5cuP",
        "outputId": "655f2f86-e788-4206-9251-b1ca2c5d66ad"
      },
      "execution_count": 7,
      "outputs": [
        {
          "output_type": "stream",
          "name": "stderr",
          "text": [
            "/usr/local/lib/python3.7/dist-packages/sklearn/utils/deprecation.py:87: FutureWarning: Function plot_confusion_matrix is deprecated; Function `plot_confusion_matrix` is deprecated in 1.0 and will be removed in 1.2. Use one of the class methods: ConfusionMatrixDisplay.from_predictions or ConfusionMatrixDisplay.from_estimator.\n",
            "  warnings.warn(msg, category=FutureWarning)\n"
          ]
        },
        {
          "output_type": "display_data",
          "data": {
            "text/plain": [
              "<Figure size 432x288 with 2 Axes>"
            ],
            "image/png": "[encoded data removed]"
          },
          "metadata": {
            "needs_background": "light"
          }
        }
      ]
    },
    {
      "cell_type": "markdown",
      "source": [
        "# Classificação das amostras em \"saudáveis ou não\" do dataset Heart Disease UCI"
      ],
      "metadata": {
        "id": "_qd0yPJ0Tx9j"
      }
    },
    {
      "cell_type": "code",
      "source": [
        "#importando as bibliotecas\n",
        "import pandas as pd\n",
        "import tensorflow as tf\n",
        "import numpy as np\n",
        "from sklearn.preprocessing import StandardScaler\n",
        "from sklearn.model_selection import train_test_split\n",
        "from sklearn.metrics import confusion_matrix, accuracy_score"
      ],
      "metadata": {
        "id": "V4aPevL3UM1s"
      },
      "execution_count": 11,
      "outputs": []
    },
    {
      "cell_type": "code",
      "source": [
        "#Importando o dataset\n",
        "heart = pd.read_csv('/content/HeartDiseaseTrain-Test.csv')\n",
        "heart.head()\n",
        "\n",
        "#target: Heart disease (0 = no, 1 = yes) / doença no coração"
      ],
      "metadata": {
        "colab": {
          "base_uri": "https://localhost:8080/",
          "height": 357
        },
        "id": "-41jRMYhUNDy",
        "outputId": "80d0071b-db8e-4193-af44-f0d8b494c36e"
      },
      "execution_count": 12,
      "outputs": [
        {
          "output_type": "execute_result",
          "data": {
            "text/plain": [
              "   age     sex chest_pain_type  resting_blood_pressure  cholestoral  \\\n",
              "0   52    Male  Typical angina                     125          212   \n",
              "1   53    Male  Typical angina                     140          203   \n",
              "2   70    Male  Typical angina                     145          174   \n",
              "3   61    Male  Typical angina                     148          203   \n",
              "4   62  Female  Typical angina                     138          294   \n",
              "\n",
              "      fasting_blood_sugar               rest_ecg  Max_heart_rate  \\\n",
              "0    Lower than 120 mg/ml  ST-T wave abnormality             168   \n",
              "1  Greater than 120 mg/ml                 Normal             155   \n",
              "2    Lower than 120 mg/ml  ST-T wave abnormality             125   \n",
              "3    Lower than 120 mg/ml  ST-T wave abnormality             161   \n",
              "4  Greater than 120 mg/ml  ST-T wave abnormality             106   \n",
              "\n",
              "  exercise_induced_angina  oldpeak        slope vessels_colored_by_flourosopy  \\\n",
              "0                      No      1.0  Downsloping                           Two   \n",
              "1                     Yes      3.1    Upsloping                          Zero   \n",
              "2                     Yes      2.6    Upsloping                          Zero   \n",
              "3                      No      0.0  Downsloping                           One   \n",
              "4                      No      1.9         Flat                         Three   \n",
              "\n",
              "         thalassemia  target  \n",
              "0  Reversable Defect       0  \n",
              "1  Reversable Defect       0  \n",
              "2  Reversable Defect       0  \n",
              "3  Reversable Defect       0  \n",
              "4       Fixed Defect       0  "
            ],
            "text/html": [
              "\n",
              "  <div id=\"df-ae8b2bb5-3fef-4047-8592-d221b8540f9b\">\n",
              "    <div class=\"colab-df-container\">\n",
              "      <div>\n",
              "<style scoped>\n",
              "    .dataframe tbody tr th:only-of-type {\n",
              "        vertical-align: middle;\n",
              "    }\n",
              "\n",
              "    .dataframe tbody tr th {\n",
              "        vertical-align: top;\n",
              "    }\n",
              "\n",
              "    .dataframe thead th {\n",
              "        text-align: right;\n",
              "    }\n",
              "</style>\n",
              "<table border=\"1\" class=\"dataframe\">\n",
              "  <thead>\n",
              "    <tr style=\"text-align: right;\">\n",
              "      <th></th>\n",
              "      <th>age</th>\n",
              "      <th>sex</th>\n",
              "      <th>chest_pain_type</th>\n",
              "      <th>resting_blood_pressure</th>\n",
              "      <th>cholestoral</th>\n",
              "      <th>fasting_blood_sugar</th>\n",
              "      <th>rest_ecg</th>\n",
              "      <th>Max_heart_rate</th>\n",
              "      <th>exercise_induced_angina</th>\n",
              "      <th>oldpeak</th>\n",
              "      <th>slope</th>\n",
              "      <th>vessels_colored_by_flourosopy</th>\n",
              "      <th>thalassemia</th>\n",
              "      <th>target</th>\n",
              "    </tr>\n",
              "  </thead>\n",
              "  <tbody>\n",
              "    <tr>\n",
              "      <th>0</th>\n",
              "      <td>52</td>\n",
              "      <td>Male</td>\n",
              "      <td>Typical angina</td>\n",
              "      <td>125</td>\n",
              "      <td>212</td>\n",
              "      <td>Lower than 120 mg/ml</td>\n",
              "      <td>ST-T wave abnormality</td>\n",
              "      <td>168</td>\n",
              "      <td>No</td>\n",
              "      <td>1.0</td>\n",
              "      <td>Downsloping</td>\n",
              "      <td>Two</td>\n",
              "      <td>Reversable Defect</td>\n",
              "      <td>0</td>\n",
              "    </tr>\n",
              "    <tr>\n",
              "      <th>1</th>\n",
              "      <td>53</td>\n",
              "      <td>Male</td>\n",
              "      <td>Typical angina</td>\n",
              "      <td>140</td>\n",
              "      <td>203</td>\n",
              "      <td>Greater than 120 mg/ml</td>\n",
              "      <td>Normal</td>\n",
              "      <td>155</td>\n",
              "      <td>Yes</td>\n",
              "      <td>3.1</td>\n",
              "      <td>Upsloping</td>\n",
              "      <td>Zero</td>\n",
              "      <td>Reversable Defect</td>\n",
              "      <td>0</td>\n",
              "    </tr>\n",
              "    <tr>\n",
              "      <th>2</th>\n",
              "      <td>70</td>\n",
              "      <td>Male</td>\n",
              "      <td>Typical angina</td>\n",
              "      <td>145</td>\n",
              "      <td>174</td>\n",
              "      <td>Lower than 120 mg/ml</td>\n",
              "      <td>ST-T wave abnormality</td>\n",
              "      <td>125</td>\n",
              "      <td>Yes</td>\n",
              "      <td>2.6</td>\n",
              "      <td>Upsloping</td>\n",
              "      <td>Zero</td>\n",
              "      <td>Reversable Defect</td>\n",
              "      <td>0</td>\n",
              "    </tr>\n",
              "    <tr>\n",
              "      <th>3</th>\n",
              "      <td>61</td>\n",
              "      <td>Male</td>\n",
              "      <td>Typical angina</td>\n",
              "      <td>148</td>\n",
              "      <td>203</td>\n",
              "      <td>Lower than 120 mg/ml</td>\n",
              "      <td>ST-T wave abnormality</td>\n",
              "      <td>161</td>\n",
              "      <td>No</td>\n",
              "      <td>0.0</td>\n",
              "      <td>Downsloping</td>\n",
              "      <td>One</td>\n",
              "      <td>Reversable Defect</td>\n",
              "      <td>0</td>\n",
              "    </tr>\n",
              "    <tr>\n",
              "      <th>4</th>\n",
              "      <td>62</td>\n",
              "      <td>Female</td>\n",
              "      <td>Typical angina</td>\n",
              "      <td>138</td>\n",
              "      <td>294</td>\n",
              "      <td>Greater than 120 mg/ml</td>\n",
              "      <td>ST-T wave abnormality</td>\n",
              "      <td>106</td>\n",
              "      <td>No</td>\n",
              "      <td>1.9</td>\n",
              "      <td>Flat</td>\n",
              "      <td>Three</td>\n",
              "      <td>Fixed Defect</td>\n",
              "      <td>0</td>\n",
              "    </tr>\n",
              "  </tbody>\n",
              "</table>\n",
              "</div>\n",
              "      <button class=\"colab-df-convert\" onclick=\"convertToInteractive('df-ae8b2bb5-3fef-4047-8592-d221b8540f9b')\"\n",
              "              title=\"Convert this dataframe to an interactive table.\"\n",
              "              style=\"display:none;\">\n",
              "        \n",
              "  <svg xmlns=\"http://www.w3.org/2000/svg\" height=\"24px\"viewBox=\"0 0 24 24\"\n",
              "       width=\"24px\">\n",
              "    <path d=\"M0 0h24v24H0V0z\" fill=\"none\"/>\n",
              "    <path d=\"M18.56 5.44l.94 2.06.94-2.06 2.06-.94-2.06-.94-.94-2.06-.94 2.06-2.06.94zm-11 1L8.5 8.5l.94-2.06 2.06-.94-2.06-.94L8.5 2.5l-.94 2.06-2.06.94zm10 10l.94 2.06.94-2.06 2.06-.94-2.06-.94-.94-2.06-.94 2.06-2.06.94z\"/><path d=\"M17.41 7.96l-1.37-1.37c-.4-.4-.92-.59-1.43-.59-.52 0-1.04.2-1.43.59L10.3 9.45l-7.72 7.72c-.78.78-.78 2.05 0 2.83L4 21.41c.39.39.9.59 1.41.59.51 0 1.02-.2 1.41-.59l7.78-7.78 2.81-2.81c.8-.78.8-2.07 0-2.86zM5.41 20L4 18.59l7.72-7.72 1.47 1.35L5.41 20z\"/>\n",
              "  </svg>\n",
              "      </button>\n",
              "      \n",
              "  <style>\n",
              "    .colab-df-container {\n",
              "      display:flex;\n",
              "      flex-wrap:wrap;\n",
              "      gap: 12px;\n",
              "    }\n",
              "\n",
              "    .colab-df-convert {\n",
              "      background-color: #E8F0FE;\n",
              "      border: none;\n",
              "      border-radius: 50%;\n",
              "      cursor: pointer;\n",
              "      display: none;\n",
              "      fill: #1967D2;\n",
              "      height: 32px;\n",
              "      padding: 0 0 0 0;\n",
              "      width: 32px;\n",
              "    }\n",
              "\n",
              "    .colab-df-convert:hover {\n",
              "      background-color: #E2EBFA;\n",
              "      box-shadow: 0px 1px 2px rgba(60, 64, 67, 0.3), 0px 1px 3px 1px rgba(60, 64, 67, 0.15);\n",
              "      fill: #174EA6;\n",
              "    }\n",
              "\n",
              "    [theme=dark] .colab-df-convert {\n",
              "      background-color: #3B4455;\n",
              "      fill: #D2E3FC;\n",
              "    }\n",
              "\n",
              "    [theme=dark] .colab-df-convert:hover {\n",
              "      background-color: #434B5C;\n",
              "      box-shadow: 0px 1px 3px 1px rgba(0, 0, 0, 0.15);\n",
              "      filter: drop-shadow(0px 1px 2px rgba(0, 0, 0, 0.3));\n",
              "      fill: #FFFFFF;\n",
              "    }\n",
              "  </style>\n",
              "\n",
              "      <script>\n",
              "        const buttonEl =\n",
              "          document.querySelector('#df-ae8b2bb5-3fef-4047-8592-d221b8540f9b button.colab-df-convert');\n",
              "        buttonEl.style.display =\n",
              "          google.colab.kernel.accessAllowed ? 'block' : 'none';\n",
              "\n",
              "        async function convertToInteractive(key) {\n",
              "          const element = document.querySelector('#df-ae8b2bb5-3fef-4047-8592-d221b8540f9b');\n",
              "          const dataTable =\n",
              "            await google.colab.kernel.invokeFunction('convertToInteractive',\n",
              "                                                     [key], {});\n",
              "          if (!dataTable) return;\n",
              "\n",
              "          const docLinkHtml = 'Like what you see? Visit the ' +\n",
              "            '<a target=\"_blank\" href=https://colab.research.google.com/notebooks/data_table.ipynb>data table notebook</a>'\n",
              "            + ' to learn more about interactive tables.';\n",
              "          element.innerHTML = '';\n",
              "          dataTable['output_type'] = 'display_data';\n",
              "          await google.colab.output.renderOutput(dataTable, element);\n",
              "          const docLink = document.createElement('div');\n",
              "          docLink.innerHTML = docLinkHtml;\n",
              "          element.appendChild(docLink);\n",
              "        }\n",
              "      </script>\n",
              "    </div>\n",
              "  </div>\n",
              "  "
            ]
          },
          "metadata": {},
          "execution_count": 12
        }
      ]
    },
    {
      "cell_type": "code",
      "source": [
        "#Tratamento dos dados"
      ],
      "metadata": {
        "id": "mRfR8Jfj6zqe"
      },
      "execution_count": 13,
      "outputs": []
    },
    {
      "cell_type": "code",
      "source": [
        "print(\"Unique sex: \")\n",
        "print(heart[\"sex\"].unique())\n",
        "heart[\"sex\"] = np.where(heart['sex'] == 'Female', 1, 0)"
      ],
      "metadata": {
        "colab": {
          "base_uri": "https://localhost:8080/"
        },
        "id": "EwFj_tEE6z44",
        "outputId": "217e13e7-3c26-4e9a-b2d5-4b680b6fb81f"
      },
      "execution_count": 14,
      "outputs": [
        {
          "output_type": "stream",
          "name": "stdout",
          "text": [
            "Unique sex: \n",
            "['Male' 'Female']\n"
          ]
        }
      ]
    },
    {
      "cell_type": "code",
      "source": [
        "print(\"Unique chest_pain_type: \")\n",
        "print(heart[\"chest_pain_type\"].unique())\n",
        "heart['chest_pain_type'] = np.where(heart['chest_pain_type'] == 'Non-anginal pain', 0,\n",
        "                           np.where(heart['chest_pain_type'] == 'Asymptomatic', 1,\n",
        "                           np.where(heart['chest_pain_type'] == 'Typical angina', 2, 3)))"
      ],
      "metadata": {
        "colab": {
          "base_uri": "https://localhost:8080/"
        },
        "id": "ILpEqj4t60C6",
        "outputId": "b5c484e1-d640-4a9d-e071-231efd6ce59f"
      },
      "execution_count": 15,
      "outputs": [
        {
          "output_type": "stream",
          "name": "stdout",
          "text": [
            "Unique chest_pain_type: \n",
            "['Typical angina' 'Atypical angina' 'Non-anginal pain' 'Asymptomatic']\n"
          ]
        }
      ]
    },
    {
      "cell_type": "code",
      "source": [
        "print(\"Unique fasting_blood_sugar: \")\n",
        "print(heart[\"fasting_blood_sugar\"].unique())\n",
        "heart[\"fasting_blood_sugar\"] = np.where(heart['fasting_blood_sugar'] == 'Greater than 120 mg/ml', 1, 0)"
      ],
      "metadata": {
        "colab": {
          "base_uri": "https://localhost:8080/"
        },
        "id": "YZhnUa0X60M7",
        "outputId": "14555a7a-407d-4836-8208-3aed5a6fd58b"
      },
      "execution_count": 16,
      "outputs": [
        {
          "output_type": "stream",
          "name": "stdout",
          "text": [
            "Unique fasting_blood_sugar: \n",
            "['Lower than 120 mg/ml' 'Greater than 120 mg/ml']\n"
          ]
        }
      ]
    },
    {
      "cell_type": "code",
      "source": [
        "print(\"Unique rest_ecg: \")\n",
        "print(heart[\"rest_ecg\"].unique())\n",
        "heart['rest_ecg'] = np.where(heart['rest_ecg'] == 'ST-T wave abnormality', -1,\n",
        "                    np.where(heart['rest_ecg'] == 'Normal', 0, 1))"
      ],
      "metadata": {
        "colab": {
          "base_uri": "https://localhost:8080/"
        },
        "id": "4qn1Ytxj686P",
        "outputId": "52c699de-3584-4486-85c7-7aa2019ccce7"
      },
      "execution_count": 17,
      "outputs": [
        {
          "output_type": "stream",
          "name": "stdout",
          "text": [
            "Unique rest_ecg: \n",
            "['ST-T wave abnormality' 'Normal' 'Left ventricular hypertrophy']\n"
          ]
        }
      ]
    },
    {
      "cell_type": "code",
      "source": [
        "print(\"Unique exercise_induced_angina: \")\n",
        "print(heart[\"exercise_induced_angina\"].unique())\n",
        "heart[\"exercise_induced_angina\"] = np.where(heart['exercise_induced_angina'], 1, 0)"
      ],
      "metadata": {
        "colab": {
          "base_uri": "https://localhost:8080/"
        },
        "id": "V3kTQ1Dl69C0",
        "outputId": "c423bda6-9898-4986-b15d-a5b4a8c7753a"
      },
      "execution_count": 18,
      "outputs": [
        {
          "output_type": "stream",
          "name": "stdout",
          "text": [
            "Unique exercise_induced_angina: \n",
            "['No' 'Yes']\n"
          ]
        }
      ]
    },
    {
      "cell_type": "code",
      "source": [
        "print(\"Unique slope: \")\n",
        "print(heart[\"slope\"].unique())\n",
        "heart['slope'] = np.where(heart['slope'] == 'Downsloping', -1,\n",
        "                 np.where(heart['slope'] == 'Flat', 0, 1))"
      ],
      "metadata": {
        "colab": {
          "base_uri": "https://localhost:8080/"
        },
        "id": "aFW7K79e69fO",
        "outputId": "3732eebf-1ace-411e-f481-a1f635a5c687"
      },
      "execution_count": 19,
      "outputs": [
        {
          "output_type": "stream",
          "name": "stdout",
          "text": [
            "Unique slope: \n",
            "['Downsloping' 'Upsloping' 'Flat']\n"
          ]
        }
      ]
    },
    {
      "cell_type": "code",
      "source": [
        "print(\"Unique vessels_colored_by_flourosopy: \")\n",
        "print(heart[\"vessels_colored_by_flourosopy\"].unique())\n",
        "heart['vessels_colored_by_flourosopy'] = np.where(heart['vessels_colored_by_flourosopy'] == 'Zero', 0,\n",
        "                                         np.where(heart['vessels_colored_by_flourosopy'] == 'One', 1,\n",
        "                                         np.where(heart['vessels_colored_by_flourosopy'] == 'Two', 2,\n",
        "                                         np.where(heart['vessels_colored_by_flourosopy'] == 'Three', 3, 4))))"
      ],
      "metadata": {
        "colab": {
          "base_uri": "https://localhost:8080/"
        },
        "id": "lknV7sD769iP",
        "outputId": "cb329a82-a492-4228-f6a9-480b2c3221ec"
      },
      "execution_count": 20,
      "outputs": [
        {
          "output_type": "stream",
          "name": "stdout",
          "text": [
            "Unique vessels_colored_by_flourosopy: \n",
            "['Two' 'Zero' 'One' 'Three' 'Four']\n"
          ]
        }
      ]
    },
    {
      "cell_type": "code",
      "source": [
        "print(\"Unique thalassemia: \")\n",
        "print(heart[\"thalassemia\"].unique())\n",
        "heart['thalassemia'] = np.where(heart['thalassemia'] == 'No', 0,\n",
        "                       np.where(heart['thalassemia'] == 'Normal', 1,\n",
        "                       np.where(heart['thalassemia'] == 'Reversable Defect', 2, 3)))"
      ],
      "metadata": {
        "colab": {
          "base_uri": "https://localhost:8080/"
        },
        "id": "uUXdIqQO69l5",
        "outputId": "877c664b-eec3-47fd-9c09-4a0eaa775e8b"
      },
      "execution_count": 21,
      "outputs": [
        {
          "output_type": "stream",
          "name": "stdout",
          "text": [
            "Unique thalassemia: \n",
            "['Reversable Defect' 'Fixed Defect' 'Normal' 'No']\n"
          ]
        }
      ]
    },
    {
      "cell_type": "code",
      "source": [
        "heart.head()"
      ],
      "metadata": {
        "colab": {
          "base_uri": "https://localhost:8080/",
          "height": 270
        },
        "id": "qq9HtVVVvipx",
        "outputId": "62ae5aaa-7305-457f-f1fa-735e1f3df897"
      },
      "execution_count": 22,
      "outputs": [
        {
          "output_type": "execute_result",
          "data": {
            "text/plain": [
              "   age  sex  chest_pain_type  resting_blood_pressure  cholestoral  \\\n",
              "0   52    0                2                     125          212   \n",
              "1   53    0                2                     140          203   \n",
              "2   70    0                2                     145          174   \n",
              "3   61    0                2                     148          203   \n",
              "4   62    1                2                     138          294   \n",
              "\n",
              "   fasting_blood_sugar  rest_ecg  Max_heart_rate  exercise_induced_angina  \\\n",
              "0                    0        -1             168                        1   \n",
              "1                    1         0             155                        1   \n",
              "2                    0        -1             125                        1   \n",
              "3                    0        -1             161                        1   \n",
              "4                    1        -1             106                        1   \n",
              "\n",
              "   oldpeak  slope  vessels_colored_by_flourosopy  thalassemia  target  \n",
              "0      1.0     -1                              2            2       0  \n",
              "1      3.1      1                              0            2       0  \n",
              "2      2.6      1                              0            2       0  \n",
              "3      0.0     -1                              1            2       0  \n",
              "4      1.9      0                              3            3       0  "
            ],
            "text/html": [
              "\n",
              "  <div id=\"df-436ba317-7e32-452e-9bb3-7accdd15de95\">\n",
              "    <div class=\"colab-df-container\">\n",
              "      <div>\n",
              "<style scoped>\n",
              "    .dataframe tbody tr th:only-of-type {\n",
              "        vertical-align: middle;\n",
              "    }\n",
              "\n",
              "    .dataframe tbody tr th {\n",
              "        vertical-align: top;\n",
              "    }\n",
              "\n",
              "    .dataframe thead th {\n",
              "        text-align: right;\n",
              "    }\n",
              "</style>\n",
              "<table border=\"1\" class=\"dataframe\">\n",
              "  <thead>\n",
              "    <tr style=\"text-align: right;\">\n",
              "      <th></th>\n",
              "      <th>age</th>\n",
              "      <th>sex</th>\n",
              "      <th>chest_pain_type</th>\n",
              "      <th>resting_blood_pressure</th>\n",
              "      <th>cholestoral</th>\n",
              "      <th>fasting_blood_sugar</th>\n",
              "      <th>rest_ecg</th>\n",
              "      <th>Max_heart_rate</th>\n",
              "      <th>exercise_induced_angina</th>\n",
              "      <th>oldpeak</th>\n",
              "      <th>slope</th>\n",
              "      <th>vessels_colored_by_flourosopy</th>\n",
              "      <th>thalassemia</th>\n",
              "      <th>target</th>\n",
              "    </tr>\n",
              "  </thead>\n",
              "  <tbody>\n",
              "    <tr>\n",
              "      <th>0</th>\n",
              "      <td>52</td>\n",
              "      <td>0</td>\n",
              "      <td>2</td>\n",
              "      <td>125</td>\n",
              "      <td>212</td>\n",
              "      <td>0</td>\n",
              "      <td>-1</td>\n",
              "      <td>168</td>\n",
              "      <td>1</td>\n",
              "      <td>1.0</td>\n",
              "      <td>-1</td>\n",
              "      <td>2</td>\n",
              "      <td>2</td>\n",
              "      <td>0</td>\n",
              "    </tr>\n",
              "    <tr>\n",
              "      <th>1</th>\n",
              "      <td>53</td>\n",
              "      <td>0</td>\n",
              "      <td>2</td>\n",
              "      <td>140</td>\n",
              "      <td>203</td>\n",
              "      <td>1</td>\n",
              "      <td>0</td>\n",
              "      <td>155</td>\n",
              "      <td>1</td>\n",
              "      <td>3.1</td>\n",
              "      <td>1</td>\n",
              "      <td>0</td>\n",
              "      <td>2</td>\n",
              "      <td>0</td>\n",
              "    </tr>\n",
              "    <tr>\n",
              "      <th>2</th>\n",
              "      <td>70</td>\n",
              "      <td>0</td>\n",
              "      <td>2</td>\n",
              "      <td>145</td>\n",
              "      <td>174</td>\n",
              "      <td>0</td>\n",
              "      <td>-1</td>\n",
              "      <td>125</td>\n",
              "      <td>1</td>\n",
              "      <td>2.6</td>\n",
              "      <td>1</td>\n",
              "      <td>0</td>\n",
              "      <td>2</td>\n",
              "      <td>0</td>\n",
              "    </tr>\n",
              "    <tr>\n",
              "      <th>3</th>\n",
              "      <td>61</td>\n",
              "      <td>0</td>\n",
              "      <td>2</td>\n",
              "      <td>148</td>\n",
              "      <td>203</td>\n",
              "      <td>0</td>\n",
              "      <td>-1</td>\n",
              "      <td>161</td>\n",
              "      <td>1</td>\n",
              "      <td>0.0</td>\n",
              "      <td>-1</td>\n",
              "      <td>1</td>\n",
              "      <td>2</td>\n",
              "      <td>0</td>\n",
              "    </tr>\n",
              "    <tr>\n",
              "      <th>4</th>\n",
              "      <td>62</td>\n",
              "      <td>1</td>\n",
              "      <td>2</td>\n",
              "      <td>138</td>\n",
              "      <td>294</td>\n",
              "      <td>1</td>\n",
              "      <td>-1</td>\n",
              "      <td>106</td>\n",
              "      <td>1</td>\n",
              "      <td>1.9</td>\n",
              "      <td>0</td>\n",
              "      <td>3</td>\n",
              "      <td>3</td>\n",
              "      <td>0</td>\n",
              "    </tr>\n",
              "  </tbody>\n",
              "</table>\n",
              "</div>\n",
              "      <button class=\"colab-df-convert\" onclick=\"convertToInteractive('df-436ba317-7e32-452e-9bb3-7accdd15de95')\"\n",
              "              title=\"Convert this dataframe to an interactive table.\"\n",
              "              style=\"display:none;\">\n",
              "        \n",
              "  <svg xmlns=\"http://www.w3.org/2000/svg\" height=\"24px\"viewBox=\"0 0 24 24\"\n",
              "       width=\"24px\">\n",
              "    <path d=\"M0 0h24v24H0V0z\" fill=\"none\"/>\n",
              "    <path d=\"M18.56 5.44l.94 2.06.94-2.06 2.06-.94-2.06-.94-.94-2.06-.94 2.06-2.06.94zm-11 1L8.5 8.5l.94-2.06 2.06-.94-2.06-.94L8.5 2.5l-.94 2.06-2.06.94zm10 10l.94 2.06.94-2.06 2.06-.94-2.06-.94-.94-2.06-.94 2.06-2.06.94z\"/><path d=\"M17.41 7.96l-1.37-1.37c-.4-.4-.92-.59-1.43-.59-.52 0-1.04.2-1.43.59L10.3 9.45l-7.72 7.72c-.78.78-.78 2.05 0 2.83L4 21.41c.39.39.9.59 1.41.59.51 0 1.02-.2 1.41-.59l7.78-7.78 2.81-2.81c.8-.78.8-2.07 0-2.86zM5.41 20L4 18.59l7.72-7.72 1.47 1.35L5.41 20z\"/>\n",
              "  </svg>\n",
              "      </button>\n",
              "      \n",
              "  <style>\n",
              "    .colab-df-container {\n",
              "      display:flex;\n",
              "      flex-wrap:wrap;\n",
              "      gap: 12px;\n",
              "    }\n",
              "\n",
              "    .colab-df-convert {\n",
              "      background-color: #E8F0FE;\n",
              "      border: none;\n",
              "      border-radius: 50%;\n",
              "      cursor: pointer;\n",
              "      display: none;\n",
              "      fill: #1967D2;\n",
              "      height: 32px;\n",
              "      padding: 0 0 0 0;\n",
              "      width: 32px;\n",
              "    }\n",
              "\n",
              "    .colab-df-convert:hover {\n",
              "      background-color: #E2EBFA;\n",
              "      box-shadow: 0px 1px 2px rgba(60, 64, 67, 0.3), 0px 1px 3px 1px rgba(60, 64, 67, 0.15);\n",
              "      fill: #174EA6;\n",
              "    }\n",
              "\n",
              "    [theme=dark] .colab-df-convert {\n",
              "      background-color: #3B4455;\n",
              "      fill: #D2E3FC;\n",
              "    }\n",
              "\n",
              "    [theme=dark] .colab-df-convert:hover {\n",
              "      background-color: #434B5C;\n",
              "      box-shadow: 0px 1px 3px 1px rgba(0, 0, 0, 0.15);\n",
              "      filter: drop-shadow(0px 1px 2px rgba(0, 0, 0, 0.3));\n",
              "      fill: #FFFFFF;\n",
              "    }\n",
              "  </style>\n",
              "\n",
              "      <script>\n",
              "        const buttonEl =\n",
              "          document.querySelector('#df-436ba317-7e32-452e-9bb3-7accdd15de95 button.colab-df-convert');\n",
              "        buttonEl.style.display =\n",
              "          google.colab.kernel.accessAllowed ? 'block' : 'none';\n",
              "\n",
              "        async function convertToInteractive(key) {\n",
              "          const element = document.querySelector('#df-436ba317-7e32-452e-9bb3-7accdd15de95');\n",
              "          const dataTable =\n",
              "            await google.colab.kernel.invokeFunction('convertToInteractive',\n",
              "                                                     [key], {});\n",
              "          if (!dataTable) return;\n",
              "\n",
              "          const docLinkHtml = 'Like what you see? Visit the ' +\n",
              "            '<a target=\"_blank\" href=https://colab.research.google.com/notebooks/data_table.ipynb>data table notebook</a>'\n",
              "            + ' to learn more about interactive tables.';\n",
              "          element.innerHTML = '';\n",
              "          dataTable['output_type'] = 'display_data';\n",
              "          await google.colab.output.renderOutput(dataTable, element);\n",
              "          const docLink = document.createElement('div');\n",
              "          docLink.innerHTML = docLinkHtml;\n",
              "          element.appendChild(docLink);\n",
              "        }\n",
              "      </script>\n",
              "    </div>\n",
              "  </div>\n",
              "  "
            ]
          },
          "metadata": {},
          "execution_count": 22
        }
      ]
    },
    {
      "cell_type": "code",
      "source": [
        "#Separando entre treino e teste, onde 30% do conjunto é reservado para verificar a precisão do modelo\n",
        "X = heart.iloc[:,:-1].values\n",
        "y = heart.iloc[:,-1].values\n",
        "\n",
        "X_train,X_test,y_train,y_test = train_test_split(X, y, test_size = 0.3, random_state = 5)\n",
        "sc = StandardScaler()\n",
        "X_train = sc.fit_transform(X_train)\n",
        "X_test = sc.transform(X_test)"
      ],
      "metadata": {
        "id": "_5rI7Rr8UNOU"
      },
      "execution_count": 23,
      "outputs": []
    },
    {
      "cell_type": "code",
      "source": [
        "#Modelagem com 2 camadas ocultas com neuronios diferentes.\n",
        "ann = tf.keras.models.Sequential()\n",
        "ann.add(tf.keras.layers.Dense(units=100, activation = \"relu\"))\n",
        "ann.add(tf.keras.layers.Dense(units = 100, activation = \"relu\"))\n",
        "ann.add(tf.keras.layers.Dense(units = 1, activation = \"sigmoid\"))\n",
        "ann.compile(optimizer = \"adam\", loss = \"binary_crossentropy\", metrics = [\"accuracy\"])"
      ],
      "metadata": {
        "id": "RwXHLor-_ZEH"
      },
      "execution_count": 24,
      "outputs": []
    },
    {
      "cell_type": "code",
      "source": [
        "#Nós treinamos a rede neural com 150 épocas com tamanho de lote de 32 para o procedimento de retropropagação.\n",
        "ann.fit(X_train,y_train,batch_size = 32, epochs = 150 )"
      ],
      "metadata": {
        "colab": {
          "base_uri": "https://localhost:8080/"
        },
        "id": "bPSW1ARd_g9y",
        "outputId": "f39c6eec-563f-4304-fe35-b7bf7fb18753"
      },
      "execution_count": 25,
      "outputs": [
        {
          "output_type": "stream",
          "name": "stdout",
          "text": [
            "Epoch 1/150\n",
            "23/23 [==============================] - 1s 2ms/step - loss: 0.5751 - accuracy: 0.7211\n",
            "Epoch 2/150\n",
            "23/23 [==============================] - 0s 2ms/step - loss: 0.4197 - accuracy: 0.8340\n",
            "Epoch 3/150\n",
            "23/23 [==============================] - 0s 3ms/step - loss: 0.3723 - accuracy: 0.8577\n",
            "Epoch 4/150\n",
            "23/23 [==============================] - 0s 2ms/step - loss: 0.3464 - accuracy: 0.8591\n",
            "Epoch 5/150\n",
            "23/23 [==============================] - 0s 3ms/step - loss: 0.3267 - accuracy: 0.8675\n",
            "Epoch 6/150\n",
            "23/23 [==============================] - 0s 2ms/step - loss: 0.3066 - accuracy: 0.8773\n",
            "Epoch 7/150\n",
            "23/23 [==============================] - 0s 2ms/step - loss: 0.2861 - accuracy: 0.8870\n",
            "Epoch 8/150\n",
            "23/23 [==============================] - 0s 3ms/step - loss: 0.2709 - accuracy: 0.8828\n",
            "Epoch 9/150\n",
            "23/23 [==============================] - 0s 2ms/step - loss: 0.2527 - accuracy: 0.8870\n",
            "Epoch 10/150\n",
            "23/23 [==============================] - 0s 3ms/step - loss: 0.2400 - accuracy: 0.8982\n",
            "Epoch 11/150\n",
            "23/23 [==============================] - 0s 3ms/step - loss: 0.2190 - accuracy: 0.9093\n",
            "Epoch 12/150\n",
            "23/23 [==============================] - 0s 2ms/step - loss: 0.2026 - accuracy: 0.9205\n",
            "Epoch 13/150\n",
            "23/23 [==============================] - 0s 2ms/step - loss: 0.1843 - accuracy: 0.9386\n",
            "Epoch 14/150\n",
            "23/23 [==============================] - 0s 10ms/step - loss: 0.1680 - accuracy: 0.9484\n",
            "Epoch 15/150\n",
            "23/23 [==============================] - 0s 3ms/step - loss: 0.1572 - accuracy: 0.9512\n",
            "Epoch 16/150\n",
            "23/23 [==============================] - 0s 2ms/step - loss: 0.1418 - accuracy: 0.9679\n",
            "Epoch 17/150\n",
            "23/23 [==============================] - 0s 2ms/step - loss: 0.1271 - accuracy: 0.9791\n",
            "Epoch 18/150\n",
            "23/23 [==============================] - 0s 2ms/step - loss: 0.1135 - accuracy: 0.9791\n",
            "Epoch 19/150\n",
            "23/23 [==============================] - 0s 3ms/step - loss: 0.1042 - accuracy: 0.9805\n",
            "Epoch 20/150\n",
            "23/23 [==============================] - 0s 2ms/step - loss: 0.0924 - accuracy: 0.9819\n",
            "Epoch 21/150\n",
            "23/23 [==============================] - 0s 3ms/step - loss: 0.0864 - accuracy: 0.9833\n",
            "Epoch 22/150\n",
            "23/23 [==============================] - 0s 2ms/step - loss: 0.0818 - accuracy: 0.9874\n",
            "Epoch 23/150\n",
            "23/23 [==============================] - 0s 2ms/step - loss: 0.0690 - accuracy: 0.9874\n",
            "Epoch 24/150\n",
            "23/23 [==============================] - 0s 2ms/step - loss: 0.0656 - accuracy: 0.9874\n",
            "Epoch 25/150\n",
            "23/23 [==============================] - 0s 3ms/step - loss: 0.0573 - accuracy: 0.9874\n",
            "Epoch 26/150\n",
            "23/23 [==============================] - 0s 2ms/step - loss: 0.0518 - accuracy: 0.9888\n",
            "Epoch 27/150\n",
            "23/23 [==============================] - 0s 3ms/step - loss: 0.0462 - accuracy: 0.9958\n",
            "Epoch 28/150\n",
            "23/23 [==============================] - 0s 2ms/step - loss: 0.0434 - accuracy: 0.9930\n",
            "Epoch 29/150\n",
            "23/23 [==============================] - 0s 2ms/step - loss: 0.0396 - accuracy: 0.9986\n",
            "Epoch 30/150\n",
            "23/23 [==============================] - 0s 2ms/step - loss: 0.0375 - accuracy: 0.9930\n",
            "Epoch 31/150\n",
            "23/23 [==============================] - 0s 3ms/step - loss: 0.0330 - accuracy: 1.0000\n",
            "Epoch 32/150\n",
            "23/23 [==============================] - 0s 3ms/step - loss: 0.0310 - accuracy: 0.9958\n",
            "Epoch 33/150\n",
            "23/23 [==============================] - 0s 3ms/step - loss: 0.0269 - accuracy: 0.9986\n",
            "Epoch 34/150\n",
            "23/23 [==============================] - 0s 2ms/step - loss: 0.0270 - accuracy: 1.0000\n",
            "Epoch 35/150\n",
            "23/23 [==============================] - 0s 2ms/step - loss: 0.0256 - accuracy: 0.9958\n",
            "Epoch 36/150\n",
            "23/23 [==============================] - 0s 2ms/step - loss: 0.0218 - accuracy: 1.0000\n",
            "Epoch 37/150\n",
            "23/23 [==============================] - 0s 3ms/step - loss: 0.0200 - accuracy: 1.0000\n",
            "Epoch 38/150\n",
            "23/23 [==============================] - 0s 3ms/step - loss: 0.0188 - accuracy: 1.0000\n",
            "Epoch 39/150\n",
            "23/23 [==============================] - 0s 2ms/step - loss: 0.0169 - accuracy: 1.0000\n",
            "Epoch 40/150\n",
            "23/23 [==============================] - 0s 3ms/step - loss: 0.0167 - accuracy: 1.0000\n",
            "Epoch 41/150\n",
            "23/23 [==============================] - 0s 2ms/step - loss: 0.0150 - accuracy: 1.0000\n",
            "Epoch 42/150\n",
            "23/23 [==============================] - 0s 2ms/step - loss: 0.0138 - accuracy: 1.0000\n",
            "Epoch 43/150\n",
            "23/23 [==============================] - 0s 3ms/step - loss: 0.0126 - accuracy: 1.0000\n",
            "Epoch 44/150\n",
            "23/23 [==============================] - 0s 2ms/step - loss: 0.0118 - accuracy: 1.0000\n",
            "Epoch 45/150\n",
            "23/23 [==============================] - 0s 2ms/step - loss: 0.0113 - accuracy: 1.0000\n",
            "Epoch 46/150\n",
            "23/23 [==============================] - 0s 3ms/step - loss: 0.0103 - accuracy: 1.0000\n",
            "Epoch 47/150\n",
            "23/23 [==============================] - 0s 2ms/step - loss: 0.0096 - accuracy: 1.0000\n",
            "Epoch 48/150\n",
            "23/23 [==============================] - 0s 3ms/step - loss: 0.0091 - accuracy: 1.0000\n",
            "Epoch 49/150\n",
            "23/23 [==============================] - 0s 2ms/step - loss: 0.0089 - accuracy: 1.0000\n",
            "Epoch 50/150\n",
            "23/23 [==============================] - 0s 2ms/step - loss: 0.0081 - accuracy: 1.0000\n",
            "Epoch 51/150\n",
            "23/23 [==============================] - 0s 3ms/step - loss: 0.0078 - accuracy: 1.0000\n",
            "Epoch 52/150\n",
            "23/23 [==============================] - 0s 2ms/step - loss: 0.0071 - accuracy: 1.0000\n",
            "Epoch 53/150\n",
            "23/23 [==============================] - 0s 2ms/step - loss: 0.0068 - accuracy: 1.0000\n",
            "Epoch 54/150\n",
            "23/23 [==============================] - 0s 3ms/step - loss: 0.0064 - accuracy: 1.0000\n",
            "Epoch 55/150\n",
            "23/23 [==============================] - 0s 2ms/step - loss: 0.0060 - accuracy: 1.0000\n",
            "Epoch 56/150\n",
            "23/23 [==============================] - 0s 2ms/step - loss: 0.0058 - accuracy: 1.0000\n",
            "Epoch 57/150\n",
            "23/23 [==============================] - 0s 2ms/step - loss: 0.0055 - accuracy: 1.0000\n",
            "Epoch 58/150\n",
            "23/23 [==============================] - 0s 2ms/step - loss: 0.0054 - accuracy: 1.0000\n",
            "Epoch 59/150\n",
            "23/23 [==============================] - 0s 2ms/step - loss: 0.0049 - accuracy: 1.0000\n",
            "Epoch 60/150\n",
            "23/23 [==============================] - 0s 2ms/step - loss: 0.0045 - accuracy: 1.0000\n",
            "Epoch 61/150\n",
            "23/23 [==============================] - 0s 2ms/step - loss: 0.0043 - accuracy: 1.0000\n",
            "Epoch 62/150\n",
            "23/23 [==============================] - 0s 3ms/step - loss: 0.0042 - accuracy: 1.0000\n",
            "Epoch 63/150\n",
            "23/23 [==============================] - 0s 2ms/step - loss: 0.0040 - accuracy: 1.0000\n",
            "Epoch 64/150\n",
            "23/23 [==============================] - 0s 3ms/step - loss: 0.0038 - accuracy: 1.0000\n",
            "Epoch 65/150\n",
            "23/23 [==============================] - 0s 2ms/step - loss: 0.0036 - accuracy: 1.0000\n",
            "Epoch 66/150\n",
            "23/23 [==============================] - 0s 2ms/step - loss: 0.0035 - accuracy: 1.0000\n",
            "Epoch 67/150\n",
            "23/23 [==============================] - 0s 2ms/step - loss: 0.0033 - accuracy: 1.0000\n",
            "Epoch 68/150\n",
            "23/23 [==============================] - 0s 3ms/step - loss: 0.0031 - accuracy: 1.0000\n",
            "Epoch 69/150\n",
            "23/23 [==============================] - 0s 2ms/step - loss: 0.0030 - accuracy: 1.0000\n",
            "Epoch 70/150\n",
            "23/23 [==============================] - 0s 2ms/step - loss: 0.0028 - accuracy: 1.0000\n",
            "Epoch 71/150\n",
            "23/23 [==============================] - 0s 2ms/step - loss: 0.0028 - accuracy: 1.0000\n",
            "Epoch 72/150\n",
            "23/23 [==============================] - 0s 2ms/step - loss: 0.0027 - accuracy: 1.0000\n",
            "Epoch 73/150\n",
            "23/23 [==============================] - 0s 2ms/step - loss: 0.0026 - accuracy: 1.0000\n",
            "Epoch 74/150\n",
            "23/23 [==============================] - 0s 2ms/step - loss: 0.0025 - accuracy: 1.0000\n",
            "Epoch 75/150\n",
            "23/23 [==============================] - 0s 2ms/step - loss: 0.0024 - accuracy: 1.0000\n",
            "Epoch 76/150\n",
            "23/23 [==============================] - 0s 2ms/step - loss: 0.0023 - accuracy: 1.0000\n",
            "Epoch 77/150\n",
            "23/23 [==============================] - 0s 3ms/step - loss: 0.0022 - accuracy: 1.0000\n",
            "Epoch 78/150\n",
            "23/23 [==============================] - 0s 2ms/step - loss: 0.0021 - accuracy: 1.0000\n",
            "Epoch 79/150\n",
            "23/23 [==============================] - 0s 2ms/step - loss: 0.0020 - accuracy: 1.0000\n",
            "Epoch 80/150\n",
            "23/23 [==============================] - 0s 2ms/step - loss: 0.0020 - accuracy: 1.0000\n",
            "Epoch 81/150\n",
            "23/23 [==============================] - 0s 2ms/step - loss: 0.0019 - accuracy: 1.0000\n",
            "Epoch 82/150\n",
            "23/23 [==============================] - 0s 2ms/step - loss: 0.0018 - accuracy: 1.0000\n",
            "Epoch 83/150\n",
            "23/23 [==============================] - 0s 2ms/step - loss: 0.0017 - accuracy: 1.0000\n",
            "Epoch 84/150\n",
            "23/23 [==============================] - 0s 2ms/step - loss: 0.0017 - accuracy: 1.0000\n",
            "Epoch 85/150\n",
            "23/23 [==============================] - 0s 2ms/step - loss: 0.0016 - accuracy: 1.0000\n",
            "Epoch 86/150\n",
            "23/23 [==============================] - 0s 2ms/step - loss: 0.0015 - accuracy: 1.0000\n",
            "Epoch 87/150\n",
            "23/23 [==============================] - 0s 2ms/step - loss: 0.0015 - accuracy: 1.0000\n",
            "Epoch 88/150\n",
            "23/23 [==============================] - 0s 2ms/step - loss: 0.0014 - accuracy: 1.0000\n",
            "Epoch 89/150\n",
            "23/23 [==============================] - 0s 2ms/step - loss: 0.0014 - accuracy: 1.0000\n",
            "Epoch 90/150\n",
            "23/23 [==============================] - 0s 2ms/step - loss: 0.0014 - accuracy: 1.0000\n",
            "Epoch 91/150\n",
            "23/23 [==============================] - 0s 2ms/step - loss: 0.0013 - accuracy: 1.0000\n",
            "Epoch 92/150\n",
            "23/23 [==============================] - 0s 3ms/step - loss: 0.0013 - accuracy: 1.0000\n",
            "Epoch 93/150\n",
            "23/23 [==============================] - 0s 2ms/step - loss: 0.0012 - accuracy: 1.0000\n",
            "Epoch 94/150\n",
            "23/23 [==============================] - 0s 4ms/step - loss: 0.0012 - accuracy: 1.0000\n",
            "Epoch 95/150\n",
            "23/23 [==============================] - 0s 3ms/step - loss: 0.0011 - accuracy: 1.0000\n",
            "Epoch 96/150\n",
            "23/23 [==============================] - 0s 3ms/step - loss: 0.0011 - accuracy: 1.0000\n",
            "Epoch 97/150\n",
            "23/23 [==============================] - 0s 2ms/step - loss: 0.0011 - accuracy: 1.0000\n",
            "Epoch 98/150\n",
            "23/23 [==============================] - 0s 2ms/step - loss: 0.0010 - accuracy: 1.0000\n",
            "Epoch 99/150\n",
            "23/23 [==============================] - 0s 2ms/step - loss: 0.0010 - accuracy: 1.0000\n",
            "Epoch 100/150\n",
            "23/23 [==============================] - 0s 2ms/step - loss: 9.8918e-04 - accuracy: 1.0000\n",
            "Epoch 101/150\n",
            "23/23 [==============================] - 0s 2ms/step - loss: 9.4971e-04 - accuracy: 1.0000\n",
            "Epoch 102/150\n",
            "23/23 [==============================] - 0s 2ms/step - loss: 9.2160e-04 - accuracy: 1.0000\n",
            "Epoch 103/150\n",
            "23/23 [==============================] - 0s 2ms/step - loss: 9.0021e-04 - accuracy: 1.0000\n",
            "Epoch 104/150\n",
            "23/23 [==============================] - 0s 2ms/step - loss: 8.9565e-04 - accuracy: 1.0000\n",
            "Epoch 105/150\n",
            "23/23 [==============================] - 0s 3ms/step - loss: 8.5391e-04 - accuracy: 1.0000\n",
            "Epoch 106/150\n",
            "23/23 [==============================] - 0s 2ms/step - loss: 8.1889e-04 - accuracy: 1.0000\n",
            "Epoch 107/150\n",
            "23/23 [==============================] - 0s 2ms/step - loss: 7.9333e-04 - accuracy: 1.0000\n",
            "Epoch 108/150\n",
            "23/23 [==============================] - 0s 3ms/step - loss: 7.7562e-04 - accuracy: 1.0000\n",
            "Epoch 109/150\n",
            "23/23 [==============================] - 0s 3ms/step - loss: 7.5376e-04 - accuracy: 1.0000\n",
            "Epoch 110/150\n",
            "23/23 [==============================] - 0s 3ms/step - loss: 7.3824e-04 - accuracy: 1.0000\n",
            "Epoch 111/150\n",
            "23/23 [==============================] - 0s 2ms/step - loss: 7.1774e-04 - accuracy: 1.0000\n",
            "Epoch 112/150\n",
            "23/23 [==============================] - 0s 2ms/step - loss: 7.0441e-04 - accuracy: 1.0000\n",
            "Epoch 113/150\n",
            "23/23 [==============================] - 0s 3ms/step - loss: 6.8455e-04 - accuracy: 1.0000\n",
            "Epoch 114/150\n",
            "23/23 [==============================] - 0s 2ms/step - loss: 6.6305e-04 - accuracy: 1.0000\n",
            "Epoch 115/150\n",
            "23/23 [==============================] - 0s 2ms/step - loss: 6.4906e-04 - accuracy: 1.0000\n",
            "Epoch 116/150\n",
            "23/23 [==============================] - 0s 2ms/step - loss: 6.3433e-04 - accuracy: 1.0000\n",
            "Epoch 117/150\n",
            "23/23 [==============================] - 0s 2ms/step - loss: 6.1876e-04 - accuracy: 1.0000\n",
            "Epoch 118/150\n",
            "23/23 [==============================] - 0s 2ms/step - loss: 6.0495e-04 - accuracy: 1.0000\n",
            "Epoch 119/150\n",
            "23/23 [==============================] - 0s 3ms/step - loss: 5.8567e-04 - accuracy: 1.0000\n",
            "Epoch 120/150\n",
            "23/23 [==============================] - 0s 2ms/step - loss: 5.6965e-04 - accuracy: 1.0000\n",
            "Epoch 121/150\n",
            "23/23 [==============================] - 0s 2ms/step - loss: 5.5337e-04 - accuracy: 1.0000\n",
            "Epoch 122/150\n",
            "23/23 [==============================] - 0s 2ms/step - loss: 5.4229e-04 - accuracy: 1.0000\n",
            "Epoch 123/150\n",
            "23/23 [==============================] - 0s 2ms/step - loss: 5.2986e-04 - accuracy: 1.0000\n",
            "Epoch 124/150\n",
            "23/23 [==============================] - 0s 2ms/step - loss: 5.1795e-04 - accuracy: 1.0000\n",
            "Epoch 125/150\n",
            "23/23 [==============================] - 0s 3ms/step - loss: 5.0429e-04 - accuracy: 1.0000\n",
            "Epoch 126/150\n",
            "23/23 [==============================] - 0s 3ms/step - loss: 4.9867e-04 - accuracy: 1.0000\n",
            "Epoch 127/150\n",
            "23/23 [==============================] - 0s 2ms/step - loss: 4.8962e-04 - accuracy: 1.0000\n",
            "Epoch 128/150\n",
            "23/23 [==============================] - 0s 3ms/step - loss: 4.7098e-04 - accuracy: 1.0000\n",
            "Epoch 129/150\n",
            "23/23 [==============================] - 0s 3ms/step - loss: 4.6324e-04 - accuracy: 1.0000\n",
            "Epoch 130/150\n",
            "23/23 [==============================] - 0s 2ms/step - loss: 4.5336e-04 - accuracy: 1.0000\n",
            "Epoch 131/150\n",
            "23/23 [==============================] - 0s 2ms/step - loss: 4.3761e-04 - accuracy: 1.0000\n",
            "Epoch 132/150\n",
            "23/23 [==============================] - 0s 3ms/step - loss: 4.3071e-04 - accuracy: 1.0000\n",
            "Epoch 133/150\n",
            "23/23 [==============================] - 0s 2ms/step - loss: 4.1795e-04 - accuracy: 1.0000\n",
            "Epoch 134/150\n",
            "23/23 [==============================] - 0s 2ms/step - loss: 4.0914e-04 - accuracy: 1.0000\n",
            "Epoch 135/150\n",
            "23/23 [==============================] - 0s 2ms/step - loss: 4.0494e-04 - accuracy: 1.0000\n",
            "Epoch 136/150\n",
            "23/23 [==============================] - 0s 2ms/step - loss: 3.9063e-04 - accuracy: 1.0000\n",
            "Epoch 137/150\n",
            "23/23 [==============================] - 0s 2ms/step - loss: 3.8447e-04 - accuracy: 1.0000\n",
            "Epoch 138/150\n",
            "23/23 [==============================] - 0s 3ms/step - loss: 3.8044e-04 - accuracy: 1.0000\n",
            "Epoch 139/150\n",
            "23/23 [==============================] - 0s 2ms/step - loss: 3.7159e-04 - accuracy: 1.0000\n",
            "Epoch 140/150\n",
            "23/23 [==============================] - 0s 3ms/step - loss: 3.6003e-04 - accuracy: 1.0000\n",
            "Epoch 141/150\n",
            "23/23 [==============================] - 0s 2ms/step - loss: 3.5846e-04 - accuracy: 1.0000\n",
            "Epoch 142/150\n",
            "23/23 [==============================] - 0s 2ms/step - loss: 3.4658e-04 - accuracy: 1.0000\n",
            "Epoch 143/150\n",
            "23/23 [==============================] - 0s 3ms/step - loss: 3.3819e-04 - accuracy: 1.0000\n",
            "Epoch 144/150\n",
            "23/23 [==============================] - 0s 2ms/step - loss: 3.3042e-04 - accuracy: 1.0000\n",
            "Epoch 145/150\n",
            "23/23 [==============================] - 0s 2ms/step - loss: 3.2194e-04 - accuracy: 1.0000\n",
            "Epoch 146/150\n",
            "23/23 [==============================] - 0s 2ms/step - loss: 3.1557e-04 - accuracy: 1.0000\n",
            "Epoch 147/150\n",
            "23/23 [==============================] - 0s 3ms/step - loss: 3.1204e-04 - accuracy: 1.0000\n",
            "Epoch 148/150\n",
            "23/23 [==============================] - 0s 2ms/step - loss: 3.0448e-04 - accuracy: 1.0000\n",
            "Epoch 149/150\n",
            "23/23 [==============================] - 0s 2ms/step - loss: 2.9741e-04 - accuracy: 1.0000\n",
            "Epoch 150/150\n",
            "23/23 [==============================] - 0s 3ms/step - loss: 2.9380e-04 - accuracy: 1.0000\n"
          ]
        },
        {
          "output_type": "execute_result",
          "data": {
            "text/plain": [
              "<keras.callbacks.History at 0x7f13d3253890>"
            ]
          },
          "metadata": {},
          "execution_count": 25
        }
      ]
    },
    {
      "cell_type": "code",
      "source": [
        "y_pred = ann.predict(X_test)\n",
        "y_pred = (y_pred > 0.5)"
      ],
      "metadata": {
        "colab": {
          "base_uri": "https://localhost:8080/"
        },
        "id": "92XapMSQ_l8B",
        "outputId": "0af3785f-3f37-4cda-9f9b-b97c5fbd234a"
      },
      "execution_count": 26,
      "outputs": [
        {
          "output_type": "stream",
          "name": "stdout",
          "text": [
            "10/10 [==============================] - 0s 2ms/step\n"
          ]
        }
      ]
    },
    {
      "cell_type": "code",
      "source": [
        "#Matriz de Confusão e Acurácia\n",
        "cm = confusion_matrix(y_test, y_pred)\n",
        "print(cm)\n",
        "accuracy_score(y_test, y_pred)"
      ],
      "metadata": {
        "colab": {
          "base_uri": "https://localhost:8080/"
        },
        "id": "Re1hFcz0_nJD",
        "outputId": "e6e8a813-d56f-4c18-9aaa-60e5c2e99f43"
      },
      "execution_count": 29,
      "outputs": [
        {
          "output_type": "stream",
          "name": "stdout",
          "text": [
            "[[154   0]\n",
            " [  0 154]]\n"
          ]
        },
        {
          "output_type": "execute_result",
          "data": {
            "text/plain": [
              "1.0"
            ]
          },
          "metadata": {},
          "execution_count": 29
        }
      ]
    },
    {
      "cell_type": "markdown",
      "source": [
        "# Classificação das amostras em \"estrelas de nêutrons ou não\" do dataset Pulse Star"
      ],
      "metadata": {
        "id": "u9QlDa9kUD1o"
      }
    },
    {
      "cell_type": "code",
      "source": [
        "#importando as bibliotecas\n",
        "import pandas as pd\n",
        "import seaborn as sns\n",
        "from sklearn.model_selection import train_test_split\n",
        "from sklearn.linear_model import LogisticRegression, RidgeClassifier, SGDClassifier\n",
        "from sklearn.tree import ExtraTreeClassifier, DecisionTreeClassifier\n",
        "from sklearn.neural_network import MLPClassifier\n",
        "from sklearn.semi_supervised import LabelPropagation\n",
        "from sklearn.neighbors import KNeighborsClassifier, RadiusNeighborsClassifier, NearestCentroid\n",
        "from sklearn.ensemble import GradientBoostingClassifier, ExtraTreesClassifier, RandomForestClassifier, AdaBoostClassifier, BaggingClassifier, IsolationForest, StackingClassifier, VotingClassifier\n",
        "\n",
        "from sklearn.metrics import accuracy_score, classification_report, confusion_matrix\n",
        "from sklearn.model_selection import GridSearchCV, RandomizedSearchCV\n",
        "\n",
        "!pip install xgboost\n",
        "from xgboost import XGBClassifier"
      ],
      "metadata": {
        "colab": {
          "base_uri": "https://localhost:8080/"
        },
        "id": "LnOFGqzhUOG8",
        "outputId": "a110faf2-1a5b-47c7-db11-d2719579332e"
      },
      "execution_count": 74,
      "outputs": [
        {
          "output_type": "stream",
          "name": "stdout",
          "text": [
            "Looking in indexes: https://pypi.org/simple, https://us-python.pkg.dev/colab-wheels/public/simple/\n",
            "Requirement already satisfied: xgboost in /usr/local/lib/python3.7/dist-packages (0.90)\n",
            "Requirement already satisfied: numpy in /usr/local/lib/python3.7/dist-packages (from xgboost) (1.21.6)\n",
            "Requirement already satisfied: scipy in /usr/local/lib/python3.7/dist-packages (from xgboost) (1.7.3)\n"
          ]
        }
      ]
    },
    {
      "cell_type": "code",
      "source": [
        "#Importando o dataset\n",
        "pulsar = pd.read_csv('pulsar_data_train.csv')\n",
        "pulsar.head(10)"
      ],
      "metadata": {
        "colab": {
          "base_uri": "https://localhost:8080/",
          "height": 476
        },
        "id": "ds27bdL0UOMH",
        "outputId": "420bac4f-c723-4a4e-df85-35f1ca0032b3"
      },
      "execution_count": 32,
      "outputs": [
        {
          "output_type": "execute_result",
          "data": {
            "text/plain": [
              "    Mean of the integrated profile  \\\n",
              "0                       121.156250   \n",
              "1                        76.968750   \n",
              "2                       130.585938   \n",
              "3                       156.398438   \n",
              "4                        84.804688   \n",
              "5                       121.007812   \n",
              "6                        79.343750   \n",
              "7                       109.406250   \n",
              "8                        95.007812   \n",
              "9                       109.156250   \n",
              "\n",
              "    Standard deviation of the integrated profile  \\\n",
              "0                                      48.372971   \n",
              "1                                      36.175557   \n",
              "2                                      53.229534   \n",
              "3                                      48.865942   \n",
              "4                                      36.117659   \n",
              "5                                      47.176944   \n",
              "6                                      42.402174   \n",
              "7                                      55.912521   \n",
              "8                                      40.219805   \n",
              "9                                      47.002234   \n",
              "\n",
              "    Excess kurtosis of the integrated profile  \\\n",
              "0                                    0.375485   \n",
              "1                                    0.712898   \n",
              "2                                    0.133408   \n",
              "3                                   -0.215989   \n",
              "4                                    0.825013   \n",
              "5                                    0.229708   \n",
              "6                                    1.063413   \n",
              "7                                    0.565106   \n",
              "8                                    0.347578   \n",
              "9                                    0.394182   \n",
              "\n",
              "    Skewness of the integrated profile   Mean of the DM-SNR curve  \\\n",
              "0                            -0.013165                   3.168896   \n",
              "1                             3.388719                   2.399666   \n",
              "2                            -0.297242                   2.743311   \n",
              "3                            -0.171294                  17.471572   \n",
              "4                             3.274125                   2.790134   \n",
              "5                             0.091336                   2.036789   \n",
              "6                             2.244377                 141.641304   \n",
              "7                             0.056247                   2.797659   \n",
              "8                             1.153164                   2.770067   \n",
              "9                             0.190296                   4.578595   \n",
              "\n",
              "    Standard deviation of the DM-SNR curve  \\\n",
              "0                                18.399367   \n",
              "1                                17.570997   \n",
              "2                                22.362553   \n",
              "3                                      NaN   \n",
              "4                                20.618009   \n",
              "5                                      NaN   \n",
              "6                                      NaN   \n",
              "7                                19.496527   \n",
              "8                                18.217741   \n",
              "9                                      NaN   \n",
              "\n",
              "    Excess kurtosis of the DM-SNR curve   Skewness of the DM-SNR curve  \\\n",
              "0                              7.449874                      65.159298   \n",
              "1                              9.414652                     102.722975   \n",
              "2                              8.508364                      74.031324   \n",
              "3                              2.958066                       7.197842   \n",
              "4                              8.405008                      76.291128   \n",
              "5                              9.546051                     112.131721   \n",
              "6                             -0.700809                      -1.200653   \n",
              "7                              9.443282                      97.374578   \n",
              "8                              7.851205                      70.801938   \n",
              "9                              5.702532                      36.342493   \n",
              "\n",
              "   target_class  \n",
              "0           0.0  \n",
              "1           0.0  \n",
              "2           0.0  \n",
              "3           0.0  \n",
              "4           0.0  \n",
              "5           0.0  \n",
              "6           0.0  \n",
              "7           0.0  \n",
              "8           0.0  \n",
              "9           0.0  "
            ],
            "text/html": [
              "\n",
              "  <div id=\"df-59823061-5143-4482-bf03-b0483aec8479\">\n",
              "    <div class=\"colab-df-container\">\n",
              "      <div>\n",
              "<style scoped>\n",
              "    .dataframe tbody tr th:only-of-type {\n",
              "        vertical-align: middle;\n",
              "    }\n",
              "\n",
              "    .dataframe tbody tr th {\n",
              "        vertical-align: top;\n",
              "    }\n",
              "\n",
              "    .dataframe thead th {\n",
              "        text-align: right;\n",
              "    }\n",
              "</style>\n",
              "<table border=\"1\" class=\"dataframe\">\n",
              "  <thead>\n",
              "    <tr style=\"text-align: right;\">\n",
              "      <th></th>\n",
              "      <th>Mean of the integrated profile</th>\n",
              "      <th>Standard deviation of the integrated profile</th>\n",
              "      <th>Excess kurtosis of the integrated profile</th>\n",
              "      <th>Skewness of the integrated profile</th>\n",
              "      <th>Mean of the DM-SNR curve</th>\n",
              "      <th>Standard deviation of the DM-SNR curve</th>\n",
              "      <th>Excess kurtosis of the DM-SNR curve</th>\n",
              "      <th>Skewness of the DM-SNR curve</th>\n",
              "      <th>target_class</th>\n",
              "    </tr>\n",
              "  </thead>\n",
              "  <tbody>\n",
              "    <tr>\n",
              "      <th>0</th>\n",
              "      <td>121.156250</td>\n",
              "      <td>48.372971</td>\n",
              "      <td>0.375485</td>\n",
              "      <td>-0.013165</td>\n",
              "      <td>3.168896</td>\n",
              "      <td>18.399367</td>\n",
              "      <td>7.449874</td>\n",
              "      <td>65.159298</td>\n",
              "      <td>0.0</td>\n",
              "    </tr>\n",
              "    <tr>\n",
              "      <th>1</th>\n",
              "      <td>76.968750</td>\n",
              "      <td>36.175557</td>\n",
              "      <td>0.712898</td>\n",
              "      <td>3.388719</td>\n",
              "      <td>2.399666</td>\n",
              "      <td>17.570997</td>\n",
              "      <td>9.414652</td>\n",
              "      <td>102.722975</td>\n",
              "      <td>0.0</td>\n",
              "    </tr>\n",
              "    <tr>\n",
              "      <th>2</th>\n",
              "      <td>130.585938</td>\n",
              "      <td>53.229534</td>\n",
              "      <td>0.133408</td>\n",
              "      <td>-0.297242</td>\n",
              "      <td>2.743311</td>\n",
              "      <td>22.362553</td>\n",
              "      <td>8.508364</td>\n",
              "      <td>74.031324</td>\n",
              "      <td>0.0</td>\n",
              "    </tr>\n",
              "    <tr>\n",
              "      <th>3</th>\n",
              "      <td>156.398438</td>\n",
              "      <td>48.865942</td>\n",
              "      <td>-0.215989</td>\n",
              "      <td>-0.171294</td>\n",
              "      <td>17.471572</td>\n",
              "      <td>NaN</td>\n",
              "      <td>2.958066</td>\n",
              "      <td>7.197842</td>\n",
              "      <td>0.0</td>\n",
              "    </tr>\n",
              "    <tr>\n",
              "      <th>4</th>\n",
              "      <td>84.804688</td>\n",
              "      <td>36.117659</td>\n",
              "      <td>0.825013</td>\n",
              "      <td>3.274125</td>\n",
              "      <td>2.790134</td>\n",
              "      <td>20.618009</td>\n",
              "      <td>8.405008</td>\n",
              "      <td>76.291128</td>\n",
              "      <td>0.0</td>\n",
              "    </tr>\n",
              "    <tr>\n",
              "      <th>5</th>\n",
              "      <td>121.007812</td>\n",
              "      <td>47.176944</td>\n",
              "      <td>0.229708</td>\n",
              "      <td>0.091336</td>\n",
              "      <td>2.036789</td>\n",
              "      <td>NaN</td>\n",
              "      <td>9.546051</td>\n",
              "      <td>112.131721</td>\n",
              "      <td>0.0</td>\n",
              "    </tr>\n",
              "    <tr>\n",
              "      <th>6</th>\n",
              "      <td>79.343750</td>\n",
              "      <td>42.402174</td>\n",
              "      <td>1.063413</td>\n",
              "      <td>2.244377</td>\n",
              "      <td>141.641304</td>\n",
              "      <td>NaN</td>\n",
              "      <td>-0.700809</td>\n",
              "      <td>-1.200653</td>\n",
              "      <td>0.0</td>\n",
              "    </tr>\n",
              "    <tr>\n",
              "      <th>7</th>\n",
              "      <td>109.406250</td>\n",
              "      <td>55.912521</td>\n",
              "      <td>0.565106</td>\n",
              "      <td>0.056247</td>\n",
              "      <td>2.797659</td>\n",
              "      <td>19.496527</td>\n",
              "      <td>9.443282</td>\n",
              "      <td>97.374578</td>\n",
              "      <td>0.0</td>\n",
              "    </tr>\n",
              "    <tr>\n",
              "      <th>8</th>\n",
              "      <td>95.007812</td>\n",
              "      <td>40.219805</td>\n",
              "      <td>0.347578</td>\n",
              "      <td>1.153164</td>\n",
              "      <td>2.770067</td>\n",
              "      <td>18.217741</td>\n",
              "      <td>7.851205</td>\n",
              "      <td>70.801938</td>\n",
              "      <td>0.0</td>\n",
              "    </tr>\n",
              "    <tr>\n",
              "      <th>9</th>\n",
              "      <td>109.156250</td>\n",
              "      <td>47.002234</td>\n",
              "      <td>0.394182</td>\n",
              "      <td>0.190296</td>\n",
              "      <td>4.578595</td>\n",
              "      <td>NaN</td>\n",
              "      <td>5.702532</td>\n",
              "      <td>36.342493</td>\n",
              "      <td>0.0</td>\n",
              "    </tr>\n",
              "  </tbody>\n",
              "</table>\n",
              "</div>\n",
              "      <button class=\"colab-df-convert\" onclick=\"convertToInteractive('df-59823061-5143-4482-bf03-b0483aec8479')\"\n",
              "              title=\"Convert this dataframe to an interactive table.\"\n",
              "              style=\"display:none;\">\n",
              "        \n",
              "  <svg xmlns=\"http://www.w3.org/2000/svg\" height=\"24px\"viewBox=\"0 0 24 24\"\n",
              "       width=\"24px\">\n",
              "    <path d=\"M0 0h24v24H0V0z\" fill=\"none\"/>\n",
              "    <path d=\"M18.56 5.44l.94 2.06.94-2.06 2.06-.94-2.06-.94-.94-2.06-.94 2.06-2.06.94zm-11 1L8.5 8.5l.94-2.06 2.06-.94-2.06-.94L8.5 2.5l-.94 2.06-2.06.94zm10 10l.94 2.06.94-2.06 2.06-.94-2.06-.94-.94-2.06-.94 2.06-2.06.94z\"/><path d=\"M17.41 7.96l-1.37-1.37c-.4-.4-.92-.59-1.43-.59-.52 0-1.04.2-1.43.59L10.3 9.45l-7.72 7.72c-.78.78-.78 2.05 0 2.83L4 21.41c.39.39.9.59 1.41.59.51 0 1.02-.2 1.41-.59l7.78-7.78 2.81-2.81c.8-.78.8-2.07 0-2.86zM5.41 20L4 18.59l7.72-7.72 1.47 1.35L5.41 20z\"/>\n",
              "  </svg>\n",
              "      </button>\n",
              "      \n",
              "  <style>\n",
              "    .colab-df-container {\n",
              "      display:flex;\n",
              "      flex-wrap:wrap;\n",
              "      gap: 12px;\n",
              "    }\n",
              "\n",
              "    .colab-df-convert {\n",
              "      background-color: #E8F0FE;\n",
              "      border: none;\n",
              "      border-radius: 50%;\n",
              "      cursor: pointer;\n",
              "      display: none;\n",
              "      fill: #1967D2;\n",
              "      height: 32px;\n",
              "      padding: 0 0 0 0;\n",
              "      width: 32px;\n",
              "    }\n",
              "\n",
              "    .colab-df-convert:hover {\n",
              "      background-color: #E2EBFA;\n",
              "      box-shadow: 0px 1px 2px rgba(60, 64, 67, 0.3), 0px 1px 3px 1px rgba(60, 64, 67, 0.15);\n",
              "      fill: #174EA6;\n",
              "    }\n",
              "\n",
              "    [theme=dark] .colab-df-convert {\n",
              "      background-color: #3B4455;\n",
              "      fill: #D2E3FC;\n",
              "    }\n",
              "\n",
              "    [theme=dark] .colab-df-convert:hover {\n",
              "      background-color: #434B5C;\n",
              "      box-shadow: 0px 1px 3px 1px rgba(0, 0, 0, 0.15);\n",
              "      filter: drop-shadow(0px 1px 2px rgba(0, 0, 0, 0.3));\n",
              "      fill: #FFFFFF;\n",
              "    }\n",
              "  </style>\n",
              "\n",
              "      <script>\n",
              "        const buttonEl =\n",
              "          document.querySelector('#df-59823061-5143-4482-bf03-b0483aec8479 button.colab-df-convert');\n",
              "        buttonEl.style.display =\n",
              "          google.colab.kernel.accessAllowed ? 'block' : 'none';\n",
              "\n",
              "        async function convertToInteractive(key) {\n",
              "          const element = document.querySelector('#df-59823061-5143-4482-bf03-b0483aec8479');\n",
              "          const dataTable =\n",
              "            await google.colab.kernel.invokeFunction('convertToInteractive',\n",
              "                                                     [key], {});\n",
              "          if (!dataTable) return;\n",
              "\n",
              "          const docLinkHtml = 'Like what you see? Visit the ' +\n",
              "            '<a target=\"_blank\" href=https://colab.research.google.com/notebooks/data_table.ipynb>data table notebook</a>'\n",
              "            + ' to learn more about interactive tables.';\n",
              "          element.innerHTML = '';\n",
              "          dataTable['output_type'] = 'display_data';\n",
              "          await google.colab.output.renderOutput(dataTable, element);\n",
              "          const docLink = document.createElement('div');\n",
              "          docLink.innerHTML = docLinkHtml;\n",
              "          element.appendChild(docLink);\n",
              "        }\n",
              "      </script>\n",
              "    </div>\n",
              "  </div>\n",
              "  "
            ]
          },
          "metadata": {},
          "execution_count": 32
        }
      ]
    },
    {
      "cell_type": "code",
      "source": [
        "pulsar.describe()"
      ],
      "metadata": {
        "colab": {
          "base_uri": "https://localhost:8080/",
          "height": 434
        },
        "id": "fbwT-RHxUOQa",
        "outputId": "28707225-7203-4f92-ae5b-cf3795818518"
      },
      "execution_count": 33,
      "outputs": [
        {
          "output_type": "execute_result",
          "data": {
            "text/plain": [
              "        Mean of the integrated profile  \\\n",
              "count                     10102.000000   \n",
              "mean                        111.074054   \n",
              "std                          25.750521   \n",
              "min                           5.812500   \n",
              "25%                         101.017578   \n",
              "50%                         115.265625   \n",
              "75%                         127.246094   \n",
              "max                         189.734375   \n",
              "\n",
              "        Standard deviation of the integrated profile  \\\n",
              "count                                   10102.000000   \n",
              "mean                                       46.512113   \n",
              "std                                         6.757943   \n",
              "min                                        24.772042   \n",
              "25%                                        42.384688   \n",
              "50%                                        46.936599   \n",
              "75%                                        50.990439   \n",
              "max                                        91.206475   \n",
              "\n",
              "        Excess kurtosis of the integrated profile  \\\n",
              "count                                 8714.000000   \n",
              "mean                                     0.474386   \n",
              "std                                      1.061620   \n",
              "min                                     -1.738021   \n",
              "25%                                      0.021766   \n",
              "50%                                      0.219963   \n",
              "75%                                      0.464708   \n",
              "max                                      8.069522   \n",
              "\n",
              "        Skewness of the integrated profile   Mean of the DM-SNR curve  \\\n",
              "count                         10102.000000               10101.000000   \n",
              "mean                              1.786861                  12.698314   \n",
              "std                               6.228198                  29.732656   \n",
              "min                              -1.755332                   0.213211   \n",
              "25%                              -0.192124                   1.907191   \n",
              "50%                               0.200610                   2.786789   \n",
              "75%                               0.927771                   5.377090   \n",
              "max                              68.101622                 222.421405   \n",
              "\n",
              "        Standard deviation of the DM-SNR curve  \\\n",
              "count                              9152.000000   \n",
              "mean                                 26.381768   \n",
              "std                                  19.639895   \n",
              "min                                   7.370432   \n",
              "25%                                  14.415562   \n",
              "50%                                  18.405448   \n",
              "75%                                  28.334311   \n",
              "max                                 110.642211   \n",
              "\n",
              "        Excess kurtosis of the DM-SNR curve   Skewness of the DM-SNR curve  \\\n",
              "count                          10101.000000                    9596.000000   \n",
              "mean                               8.331023                     105.225910   \n",
              "std                                4.511829                     105.988179   \n",
              "min                               -3.139270                      -1.976976   \n",
              "25%                                5.826356                      35.662090   \n",
              "50%                                8.460500                      83.350425   \n",
              "75%                               10.731702                     139.923671   \n",
              "max                               34.539844                    1191.000837   \n",
              "\n",
              "       target_class  \n",
              "count  10101.000000  \n",
              "mean       0.092565  \n",
              "std        0.289836  \n",
              "min        0.000000  \n",
              "25%        0.000000  \n",
              "50%        0.000000  \n",
              "75%        0.000000  \n",
              "max        1.000000  "
            ],
            "text/html": [
              "\n",
              "  <div id=\"df-91e3e92c-8c02-4cfd-aa06-a1ce47cdc105\">\n",
              "    <div class=\"colab-df-container\">\n",
              "      <div>\n",
              "<style scoped>\n",
              "    .dataframe tbody tr th:only-of-type {\n",
              "        vertical-align: middle;\n",
              "    }\n",
              "\n",
              "    .dataframe tbody tr th {\n",
              "        vertical-align: top;\n",
              "    }\n",
              "\n",
              "    .dataframe thead th {\n",
              "        text-align: right;\n",
              "    }\n",
              "</style>\n",
              "<table border=\"1\" class=\"dataframe\">\n",
              "  <thead>\n",
              "    <tr style=\"text-align: right;\">\n",
              "      <th></th>\n",
              "      <th>Mean of the integrated profile</th>\n",
              "      <th>Standard deviation of the integrated profile</th>\n",
              "      <th>Excess kurtosis of the integrated profile</th>\n",
              "      <th>Skewness of the integrated profile</th>\n",
              "      <th>Mean of the DM-SNR curve</th>\n",
              "      <th>Standard deviation of the DM-SNR curve</th>\n",
              "      <th>Excess kurtosis of the DM-SNR curve</th>\n",
              "      <th>Skewness of the DM-SNR curve</th>\n",
              "      <th>target_class</th>\n",
              "    </tr>\n",
              "  </thead>\n",
              "  <tbody>\n",
              "    <tr>\n",
              "      <th>count</th>\n",
              "      <td>10102.000000</td>\n",
              "      <td>10102.000000</td>\n",
              "      <td>8714.000000</td>\n",
              "      <td>10102.000000</td>\n",
              "      <td>10101.000000</td>\n",
              "      <td>9152.000000</td>\n",
              "      <td>10101.000000</td>\n",
              "      <td>9596.000000</td>\n",
              "      <td>10101.000000</td>\n",
              "    </tr>\n",
              "    <tr>\n",
              "      <th>mean</th>\n",
              "      <td>111.074054</td>\n",
              "      <td>46.512113</td>\n",
              "      <td>0.474386</td>\n",
              "      <td>1.786861</td>\n",
              "      <td>12.698314</td>\n",
              "      <td>26.381768</td>\n",
              "      <td>8.331023</td>\n",
              "      <td>105.225910</td>\n",
              "      <td>0.092565</td>\n",
              "    </tr>\n",
              "    <tr>\n",
              "      <th>std</th>\n",
              "      <td>25.750521</td>\n",
              "      <td>6.757943</td>\n",
              "      <td>1.061620</td>\n",
              "      <td>6.228198</td>\n",
              "      <td>29.732656</td>\n",
              "      <td>19.639895</td>\n",
              "      <td>4.511829</td>\n",
              "      <td>105.988179</td>\n",
              "      <td>0.289836</td>\n",
              "    </tr>\n",
              "    <tr>\n",
              "      <th>min</th>\n",
              "      <td>5.812500</td>\n",
              "      <td>24.772042</td>\n",
              "      <td>-1.738021</td>\n",
              "      <td>-1.755332</td>\n",
              "      <td>0.213211</td>\n",
              "      <td>7.370432</td>\n",
              "      <td>-3.139270</td>\n",
              "      <td>-1.976976</td>\n",
              "      <td>0.000000</td>\n",
              "    </tr>\n",
              "    <tr>\n",
              "      <th>25%</th>\n",
              "      <td>101.017578</td>\n",
              "      <td>42.384688</td>\n",
              "      <td>0.021766</td>\n",
              "      <td>-0.192124</td>\n",
              "      <td>1.907191</td>\n",
              "      <td>14.415562</td>\n",
              "      <td>5.826356</td>\n",
              "      <td>35.662090</td>\n",
              "      <td>0.000000</td>\n",
              "    </tr>\n",
              "    <tr>\n",
              "      <th>50%</th>\n",
              "      <td>115.265625</td>\n",
              "      <td>46.936599</td>\n",
              "      <td>0.219963</td>\n",
              "      <td>0.200610</td>\n",
              "      <td>2.786789</td>\n",
              "      <td>18.405448</td>\n",
              "      <td>8.460500</td>\n",
              "      <td>83.350425</td>\n",
              "      <td>0.000000</td>\n",
              "    </tr>\n",
              "    <tr>\n",
              "      <th>75%</th>\n",
              "      <td>127.246094</td>\n",
              "      <td>50.990439</td>\n",
              "      <td>0.464708</td>\n",
              "      <td>0.927771</td>\n",
              "      <td>5.377090</td>\n",
              "      <td>28.334311</td>\n",
              "      <td>10.731702</td>\n",
              "      <td>139.923671</td>\n",
              "      <td>0.000000</td>\n",
              "    </tr>\n",
              "    <tr>\n",
              "      <th>max</th>\n",
              "      <td>189.734375</td>\n",
              "      <td>91.206475</td>\n",
              "      <td>8.069522</td>\n",
              "      <td>68.101622</td>\n",
              "      <td>222.421405</td>\n",
              "      <td>110.642211</td>\n",
              "      <td>34.539844</td>\n",
              "      <td>1191.000837</td>\n",
              "      <td>1.000000</td>\n",
              "    </tr>\n",
              "  </tbody>\n",
              "</table>\n",
              "</div>\n",
              "      <button class=\"colab-df-convert\" onclick=\"convertToInteractive('df-91e3e92c-8c02-4cfd-aa06-a1ce47cdc105')\"\n",
              "              title=\"Convert this dataframe to an interactive table.\"\n",
              "              style=\"display:none;\">\n",
              "        \n",
              "  <svg xmlns=\"http://www.w3.org/2000/svg\" height=\"24px\"viewBox=\"0 0 24 24\"\n",
              "       width=\"24px\">\n",
              "    <path d=\"M0 0h24v24H0V0z\" fill=\"none\"/>\n",
              "    <path d=\"M18.56 5.44l.94 2.06.94-2.06 2.06-.94-2.06-.94-.94-2.06-.94 2.06-2.06.94zm-11 1L8.5 8.5l.94-2.06 2.06-.94-2.06-.94L8.5 2.5l-.94 2.06-2.06.94zm10 10l.94 2.06.94-2.06 2.06-.94-2.06-.94-.94-2.06-.94 2.06-2.06.94z\"/><path d=\"M17.41 7.96l-1.37-1.37c-.4-.4-.92-.59-1.43-.59-.52 0-1.04.2-1.43.59L10.3 9.45l-7.72 7.72c-.78.78-.78 2.05 0 2.83L4 21.41c.39.39.9.59 1.41.59.51 0 1.02-.2 1.41-.59l7.78-7.78 2.81-2.81c.8-.78.8-2.07 0-2.86zM5.41 20L4 18.59l7.72-7.72 1.47 1.35L5.41 20z\"/>\n",
              "  </svg>\n",
              "      </button>\n",
              "      \n",
              "  <style>\n",
              "    .colab-df-container {\n",
              "      display:flex;\n",
              "      flex-wrap:wrap;\n",
              "      gap: 12px;\n",
              "    }\n",
              "\n",
              "    .colab-df-convert {\n",
              "      background-color: #E8F0FE;\n",
              "      border: none;\n",
              "      border-radius: 50%;\n",
              "      cursor: pointer;\n",
              "      display: none;\n",
              "      fill: #1967D2;\n",
              "      height: 32px;\n",
              "      padding: 0 0 0 0;\n",
              "      width: 32px;\n",
              "    }\n",
              "\n",
              "    .colab-df-convert:hover {\n",
              "      background-color: #E2EBFA;\n",
              "      box-shadow: 0px 1px 2px rgba(60, 64, 67, 0.3), 0px 1px 3px 1px rgba(60, 64, 67, 0.15);\n",
              "      fill: #174EA6;\n",
              "    }\n",
              "\n",
              "    [theme=dark] .colab-df-convert {\n",
              "      background-color: #3B4455;\n",
              "      fill: #D2E3FC;\n",
              "    }\n",
              "\n",
              "    [theme=dark] .colab-df-convert:hover {\n",
              "      background-color: #434B5C;\n",
              "      box-shadow: 0px 1px 3px 1px rgba(0, 0, 0, 0.15);\n",
              "      filter: drop-shadow(0px 1px 2px rgba(0, 0, 0, 0.3));\n",
              "      fill: #FFFFFF;\n",
              "    }\n",
              "  </style>\n",
              "\n",
              "      <script>\n",
              "        const buttonEl =\n",
              "          document.querySelector('#df-91e3e92c-8c02-4cfd-aa06-a1ce47cdc105 button.colab-df-convert');\n",
              "        buttonEl.style.display =\n",
              "          google.colab.kernel.accessAllowed ? 'block' : 'none';\n",
              "\n",
              "        async function convertToInteractive(key) {\n",
              "          const element = document.querySelector('#df-91e3e92c-8c02-4cfd-aa06-a1ce47cdc105');\n",
              "          const dataTable =\n",
              "            await google.colab.kernel.invokeFunction('convertToInteractive',\n",
              "                                                     [key], {});\n",
              "          if (!dataTable) return;\n",
              "\n",
              "          const docLinkHtml = 'Like what you see? Visit the ' +\n",
              "            '<a target=\"_blank\" href=https://colab.research.google.com/notebooks/data_table.ipynb>data table notebook</a>'\n",
              "            + ' to learn more about interactive tables.';\n",
              "          element.innerHTML = '';\n",
              "          dataTable['output_type'] = 'display_data';\n",
              "          await google.colab.output.renderOutput(dataTable, element);\n",
              "          const docLink = document.createElement('div');\n",
              "          docLink.innerHTML = docLinkHtml;\n",
              "          element.appendChild(docLink);\n",
              "        }\n",
              "      </script>\n",
              "    </div>\n",
              "  </div>\n",
              "  "
            ]
          },
          "metadata": {},
          "execution_count": 33
        }
      ]
    },
    {
      "cell_type": "code",
      "source": [
        "pulsar.info()"
      ],
      "metadata": {
        "colab": {
          "base_uri": "https://localhost:8080/"
        },
        "id": "axtk4kINmMJ6",
        "outputId": "65e1b05b-0dbc-4de4-9e4c-1e7f22ccd298"
      },
      "execution_count": 39,
      "outputs": [
        {
          "output_type": "stream",
          "name": "stdout",
          "text": [
            "<class 'pandas.core.frame.DataFrame'>\n",
            "RangeIndex: 10102 entries, 0 to 10101\n",
            "Data columns (total 9 columns):\n",
            " #   Column                                         Non-Null Count  Dtype  \n",
            "---  ------                                         --------------  -----  \n",
            " 0    Mean of the integrated profile                10102 non-null  float64\n",
            " 1    Standard deviation of the integrated profile  10102 non-null  float64\n",
            " 2    Excess kurtosis of the integrated profile     8714 non-null   float64\n",
            " 3    Skewness of the integrated profile            10102 non-null  float64\n",
            " 4    Mean of the DM-SNR curve                      10101 non-null  float64\n",
            " 5    Standard deviation of the DM-SNR curve        9152 non-null   float64\n",
            " 6    Excess kurtosis of the DM-SNR curve           10101 non-null  float64\n",
            " 7    Skewness of the DM-SNR curve                  9596 non-null   float64\n",
            " 8   target_class                                   10101 non-null  float64\n",
            "dtypes: float64(9)\n",
            "memory usage: 710.4 KB\n"
          ]
        }
      ]
    },
    {
      "cell_type": "code",
      "source": [
        "#Quantidade de dados nulos\n",
        "pulsar.isnull().sum()"
      ],
      "metadata": {
        "colab": {
          "base_uri": "https://localhost:8080/"
        },
        "id": "VS4KIqYymPNO",
        "outputId": "ba9bd485-1a98-4fef-e023-34f1ef990d4c"
      },
      "execution_count": 40,
      "outputs": [
        {
          "output_type": "execute_result",
          "data": {
            "text/plain": [
              " Mean of the integrated profile                     0\n",
              " Standard deviation of the integrated profile       0\n",
              " Excess kurtosis of the integrated profile       1388\n",
              " Skewness of the integrated profile                 0\n",
              " Mean of the DM-SNR curve                           1\n",
              " Standard deviation of the DM-SNR curve           950\n",
              " Excess kurtosis of the DM-SNR curve                1\n",
              " Skewness of the DM-SNR curve                     506\n",
              "target_class                                        1\n",
              "dtype: int64"
            ]
          },
          "metadata": {},
          "execution_count": 40
        }
      ]
    },
    {
      "cell_type": "code",
      "source": [
        "#Porcentagem de dados nulos\n",
        "pulsar.isnull().sum() / pulsar.count() * 100"
      ],
      "metadata": {
        "colab": {
          "base_uri": "https://localhost:8080/"
        },
        "id": "2pqOPs7DxJ2g",
        "outputId": "abd295e1-5a8f-43fb-aa9a-b5d78b6d9c21"
      },
      "execution_count": 46,
      "outputs": [
        {
          "output_type": "execute_result",
          "data": {
            "text/plain": [
              " Mean of the integrated profile                   0.000000\n",
              " Standard deviation of the integrated profile     0.000000\n",
              " Excess kurtosis of the integrated profile       15.928391\n",
              " Skewness of the integrated profile               0.000000\n",
              " Mean of the DM-SNR curve                         0.009900\n",
              " Standard deviation of the DM-SNR curve          10.380245\n",
              " Excess kurtosis of the DM-SNR curve              0.009900\n",
              " Skewness of the DM-SNR curve                     5.273030\n",
              "target_class                                      0.009900\n",
              "dtype: float64"
            ]
          },
          "metadata": {},
          "execution_count": 46
        }
      ]
    },
    {
      "cell_type": "code",
      "source": [
        "#Dropa os NaN's\n",
        "pulsar = pulsar.dropna()"
      ],
      "metadata": {
        "id": "9Ufk0SW1pxWh"
      },
      "execution_count": 64,
      "outputs": []
    },
    {
      "cell_type": "code",
      "source": [
        "#Visualizando a distribuição da classe \"Target\"\n",
        "plt.figure(figsize = (8, 6))\n",
        "total = float(len(pulsar))\n",
        "ax = sns.countplot(x = 'target_class', data = pulsar)\n",
        "for p in ax.patches:\n",
        "    height = p.get_height()\n",
        "    ax.text(p.get_x()+p.get_width()/2.,height + 3,'{:1.2f}'.format(height/total),ha=\"center\") "
      ],
      "metadata": {
        "colab": {
          "base_uri": "https://localhost:8080/",
          "height": 389
        },
        "id": "pGqBF0ALy--E",
        "outputId": "0be774fb-c0c2-4bba-93c1-0914280204d9"
      },
      "execution_count": 65,
      "outputs": [
        {
          "output_type": "display_data",
          "data": {
            "text/plain": [
              "<Figure size 576x432 with 1 Axes>"
            ],
            "image/png": "[encoded data removed]"
          },
          "metadata": {
            "needs_background": "light"
          }
        }
      ]
    },
    {
      "cell_type": "code",
      "source": [
        "# Separa todas as colunas menos a target\n",
        "colunas = list(set(pulsar.columns) - set(['target_class']))\n",
        "colunas.sort()\n",
        "colunas"
      ],
      "metadata": {
        "colab": {
          "base_uri": "https://localhost:8080/"
        },
        "id": "0OvWx4nk0fYW",
        "outputId": "362c6c42-2114-4d22-905b-f056b047c08f"
      },
      "execution_count": 66,
      "outputs": [
        {
          "output_type": "execute_result",
          "data": {
            "text/plain": [
              "[' Excess kurtosis of the DM-SNR curve',\n",
              " ' Excess kurtosis of the integrated profile',\n",
              " ' Mean of the DM-SNR curve',\n",
              " ' Mean of the integrated profile',\n",
              " ' Skewness of the DM-SNR curve',\n",
              " ' Skewness of the integrated profile',\n",
              " ' Standard deviation of the DM-SNR curve',\n",
              " ' Standard deviation of the integrated profile']"
            ]
          },
          "metadata": {},
          "execution_count": 66
        }
      ]
    },
    {
      "cell_type": "code",
      "source": [
        "#Histogramas\n",
        "fig, axes = plt.subplots(nrows = len(colunas), ncols=2,  figsize=(15, 40))\n",
        "for i in range(len(colunas)):\n",
        "    feature = colunas[i]\n",
        "    plt.figure(figsize = (5, 3))\n",
        "    data = pulsar.copy()\n",
        "    sns.histplot(x=data[feature].dropna(), ax=axes[i][0])\n",
        "    sns.boxplot(x=data[feature].dropna(), ax=axes[i][1])"
      ],
      "metadata": {
        "colab": {
          "base_uri": "https://localhost:8080/",
          "height": 1000
        },
        "id": "htZWSWiizn9C",
        "outputId": "c7714617-2196-4c3b-d9a5-82b527ca94b4"
      },
      "execution_count": 67,
      "outputs": [
        {
          "output_type": "display_data",
          "data": {
            "text/plain": [
              "<Figure size 1080x2880 with 16 Axes>"
            ],
            "image/png": "[encoded data removed]"
          },
          "metadata": {
            "needs_background": "light"
          }
        },
        {
          "output_type": "display_data",
          "data": {
            "text/plain": [
              "<Figure size 360x216 with 0 Axes>"
            ]
          },
          "metadata": {}
        },
        {
          "output_type": "display_data",
          "data": {
            "text/plain": [
              "<Figure size 360x216 with 0 Axes>"
            ]
          },
          "metadata": {}
        },
        {
          "output_type": "display_data",
          "data": {
            "text/plain": [
              "<Figure size 360x216 with 0 Axes>"
            ]
          },
          "metadata": {}
        },
        {
          "output_type": "display_data",
          "data": {
            "text/plain": [
              "<Figure size 360x216 with 0 Axes>"
            ]
          },
          "metadata": {}
        },
        {
          "output_type": "display_data",
          "data": {
            "text/plain": [
              "<Figure size 360x216 with 0 Axes>"
            ]
          },
          "metadata": {}
        },
        {
          "output_type": "display_data",
          "data": {
            "text/plain": [
              "<Figure size 360x216 with 0 Axes>"
            ]
          },
          "metadata": {}
        },
        {
          "output_type": "display_data",
          "data": {
            "text/plain": [
              "<Figure size 360x216 with 0 Axes>"
            ]
          },
          "metadata": {}
        },
        {
          "output_type": "display_data",
          "data": {
            "text/plain": [
              "<Figure size 360x216 with 0 Axes>"
            ]
          },
          "metadata": {}
        }
      ]
    },
    {
      "cell_type": "code",
      "source": [
        "#Histograma da Coluna target com as demais colunas\n",
        "train_dummy = pulsar.copy()\n",
        "for feature in colunas:\n",
        "  fig, axs = plt.subplots(figsize=(10, 5))\n",
        "  sns.histplot(train_dummy[train_dummy['target_class']==0][feature].dropna(), color='red')\n",
        "  sns.histplot(train_dummy[train_dummy['target_class']==1][feature].dropna(), color='blue')\n",
        "\n",
        "  plt.legend([0, 1], loc='upper right', prop={'size': 15})\n",
        "  plt.show()"
      ],
      "metadata": {
        "colab": {
          "base_uri": "https://localhost:8080/",
          "height": 1000
        },
        "id": "JhjM1SLa07Pj",
        "outputId": "82a0b327-a135-4884-b566-5cee771f9315"
      },
      "execution_count": 68,
      "outputs": [
        {
          "output_type": "display_data",
          "data": {
            "text/plain": [
              "<Figure size 720x360 with 1 Axes>"
            ],
            "image/png": "[encoded data removed]"
          },
          "metadata": {
            "needs_background": "light"
          }
        },
        {
          "output_type": "display_data",
          "data": {
            "text/plain": [
              "<Figure size 720x360 with 1 Axes>"
            ],
            "image/png": "[encoded data removed]"
          },
          "metadata": {
            "needs_background": "light"
          }
        },
        {
          "output_type": "display_data",
          "data": {
            "text/plain": [
              "<Figure size 720x360 with 1 Axes>"
            ],
            "image/png": "[encoded data removed]"
          },
          "metadata": {
            "needs_background": "light"
          }
        },
        {
          "output_type": "display_data",
          "data": {
            "text/plain": [
              "<Figure size 720x360 with 1 Axes>"
            ],
            "image/png": "[encoded data removed]"
          },
          "metadata": {
            "needs_background": "light"
          }
        },
        {
          "output_type": "display_data",
          "data": {
            "text/plain": [
              "<Figure size 720x360 with 1 Axes>"
            ],
            "image/png": "[encoded data removed]"
          },
          "metadata": {
            "needs_background": "light"
          }
        },
        {
          "output_type": "display_data",
          "data": {
            "text/plain": [
              "<Figure size 720x360 with 1 Axes>"
            ],
            "image/png": "[encoded data removed]"
          },
          "metadata": {
            "needs_background": "light"
          }
        },
        {
          "output_type": "display_data",
          "data": {
            "text/plain": [
              "<Figure size 720x360 with 1 Axes>"
            ],
            "image/png": "[encoded data removed]"
          },
          "metadata": {
            "needs_background": "light"
          }
        },
        {
          "output_type": "display_data",
          "data": {
            "text/plain": [
              "<Figure size 720x360 with 1 Axes>"
            ],
            "image/png": "[encoded data removed]"
          },
          "metadata": {
            "needs_background": "light"
          }
        }
      ]
    },
    {
      "cell_type": "code",
      "source": [
        "#Outliers\n",
        "for i in range(len(colunas)):\n",
        "  feature = colunas[i]\n",
        "  plt.figure(figsize = (8, 4))\n",
        "  sns.boxplot(x = 'target_class', y = colunas[i], data = pulsar)\n",
        "  plt.grid()\n",
        "  plt.show()"
      ],
      "metadata": {
        "colab": {
          "base_uri": "https://localhost:8080/",
          "height": 1000
        },
        "id": "Zd5pHESM1g6k",
        "outputId": "1eb8e850-61fb-47a9-b156-81ed6acb1a12"
      },
      "execution_count": 69,
      "outputs": [
        {
          "output_type": "display_data",
          "data": {
            "text/plain": [
              "<Figure size 576x288 with 1 Axes>"
            ],
            "image/png": "[encoded data removed]"
          },
          "metadata": {
            "needs_background": "light"
          }
        },
        {
          "output_type": "display_data",
          "data": {
            "text/plain": [
              "<Figure size 576x288 with 1 Axes>"
            ],
            "image/png": "[encoded data removed]"
          },
          "metadata": {
            "needs_background": "light"
          }
        },
        {
          "output_type": "display_data",
          "data": {
            "text/plain": [
              "<Figure size 576x288 with 1 Axes>"
            ],
            "image/png": "[encoded data removed]"
          },
          "metadata": {
            "needs_background": "light"
          }
        },
        {
          "output_type": "display_data",
          "data": {
            "text/plain": [
              "<Figure size 576x288 with 1 Axes>"
            ],
            "image/png": "[encoded data removed]"
          },
          "metadata": {
            "needs_background": "light"
          }
        },
        {
          "output_type": "display_data",
          "data": {
            "text/plain": [
              "<Figure size 576x288 with 1 Axes>"
            ],
            "image/png": "[encoded data removed]"
          },
          "metadata": {
            "needs_background": "light"
          }
        },
        {
          "output_type": "display_data",
          "data": {
            "text/plain": [
              "<Figure size 576x288 with 1 Axes>"
            ],
            "image/png": "[encoded data removed]"
          },
          "metadata": {
            "needs_background": "light"
          }
        },
        {
          "output_type": "display_data",
          "data": {
            "text/plain": [
              "<Figure size 576x288 with 1 Axes>"
            ],
            "image/png": "[encoded data removed]"
          },
          "metadata": {
            "needs_background": "light"
          }
        },
        {
          "output_type": "display_data",
          "data": {
            "text/plain": [
              "<Figure size 576x288 with 1 Axes>"
            ],
            "image/png": "[encoded data removed]"
          },
          "metadata": {
            "needs_background": "light"
          }
        }
      ]
    },
    {
      "cell_type": "code",
      "source": [
        "#Correlação\n",
        "plt.figure(figsize = (8, 8))\n",
        "corr_mat = pulsar.corr()\n",
        "sns.heatmap(corr_mat, xticklabels = corr_mat.columns, yticklabels = corr_mat.columns, annot=True)"
      ],
      "metadata": {
        "colab": {
          "base_uri": "https://localhost:8080/",
          "height": 714
        },
        "id": "tlTwkAgw1yjR",
        "outputId": "163517c1-7c84-4217-ba13-01870a9ba805"
      },
      "execution_count": 70,
      "outputs": [
        {
          "output_type": "execute_result",
          "data": {
            "text/plain": [
              "<matplotlib.axes._subplots.AxesSubplot at 0x7f13cccadb90>"
            ]
          },
          "metadata": {},
          "execution_count": 70
        },
        {
          "output_type": "display_data",
          "data": {
            "text/plain": [
              "<Figure size 576x576 with 2 Axes>"
            ],
            "image/png": "[encoded data removed]"
          },
          "metadata": {
            "needs_background": "light"
          }
        }
      ]
    },
    {
      "cell_type": "code",
      "source": [
        "y = pulsar['target_class']\n",
        "x = pulsar.copy().drop(['target_class'], axis = 1)"
      ],
      "metadata": {
        "id": "E-hNRNtX2Gdp"
      },
      "execution_count": 71,
      "outputs": []
    },
    {
      "cell_type": "code",
      "source": [
        "#Separado em teste e treino\n",
        "x_train, x_test1, y_train, y_test1 = train_test_split(x, y, test_size=0.40, random_state=42)\n",
        "x_val, x_test, y_val, y_test = train_test_split(x_test1, y_test1, test_size=0.50, random_state=42)"
      ],
      "metadata": {
        "id": "C-MiWlTG3Lqq"
      },
      "execution_count": 72,
      "outputs": []
    },
    {
      "cell_type": "code",
      "source": [
        "print(x_train.shape)\n",
        "print(x_val.shape)\n",
        "print(x_test.shape)\n",
        "print(y_train.shape)\n",
        "print(y_val.shape)\n",
        "print(y_test.shape)"
      ],
      "metadata": {
        "colab": {
          "base_uri": "https://localhost:8080/"
        },
        "id": "Yh-_X2bx3SN3",
        "outputId": "ecba5d2a-0a8b-4c67-ce49-991c567d7170"
      },
      "execution_count": 73,
      "outputs": [
        {
          "output_type": "stream",
          "name": "stdout",
          "text": [
            "(4491, 8)\n",
            "(1497, 8)\n",
            "(1497, 8)\n",
            "(4491,)\n",
            "(1497,)\n",
            "(1497,)\n"
          ]
        }
      ]
    },
    {
      "cell_type": "code",
      "source": [
        "#treinamento do modelo\n",
        "#Regressão logistica\n",
        "model = LogisticRegression()\n",
        "model.fit(x_train, y_train)\n",
        "y_pred = model.predict(x_val)\n",
        "print(accuracy_score(y_val, y_pred))\n",
        "print(confusion_matrix(y_val, y_pred))\n",
        "print(classification_report(y_val, y_pred))"
      ],
      "metadata": {
        "colab": {
          "base_uri": "https://localhost:8080/"
        },
        "id": "9wywryXo3anb",
        "outputId": "10413b83-0a65-4c1b-f982-d8e8d5b09578"
      },
      "execution_count": 75,
      "outputs": [
        {
          "output_type": "stream",
          "name": "stdout",
          "text": [
            "0.9732798931195725\n",
            "[[1342   10]\n",
            " [  30  115]]\n",
            "              precision    recall  f1-score   support\n",
            "\n",
            "         0.0       0.98      0.99      0.99      1352\n",
            "         1.0       0.92      0.79      0.85       145\n",
            "\n",
            "    accuracy                           0.97      1497\n",
            "   macro avg       0.95      0.89      0.92      1497\n",
            "weighted avg       0.97      0.97      0.97      1497\n",
            "\n"
          ]
        },
        {
          "output_type": "stream",
          "name": "stderr",
          "text": [
            "/usr/local/lib/python3.7/dist-packages/sklearn/linear_model/_logistic.py:818: ConvergenceWarning: lbfgs failed to converge (status=1):\n",
            "STOP: TOTAL NO. of ITERATIONS REACHED LIMIT.\n",
            "\n",
            "Increase the number of iterations (max_iter) or scale the data as shown in:\n",
            "    https://scikit-learn.org/stable/modules/preprocessing.html\n",
            "Please also refer to the documentation for alternative solver options:\n",
            "    https://scikit-learn.org/stable/modules/linear_model.html#logistic-regression\n",
            "  extra_warning_msg=_LOGISTIC_SOLVER_CONVERGENCE_MSG,\n"
          ]
        }
      ]
    },
    {
      "cell_type": "code",
      "source": [
        "#Acuracia e Matriz de confusão\n",
        "print(accuracy_score(y_val, y_pred))\n",
        "print(confusion_matrix(y_val, y_pred))"
      ],
      "metadata": {
        "colab": {
          "base_uri": "https://localhost:8080/"
        },
        "id": "0jmXHp813fAA",
        "outputId": "b8e3857b-8433-450a-f21a-65b3023d025e"
      },
      "execution_count": 76,
      "outputs": [
        {
          "output_type": "stream",
          "name": "stdout",
          "text": [
            "0.9732798931195725\n",
            "[[1342   10]\n",
            " [  30  115]]\n"
          ]
        }
      ]
    },
    {
      "cell_type": "code",
      "source": [
        "#MLP\n",
        "model = MLPClassifier()\n",
        "model.fit(x_train, y_train)\n",
        "y_pred = model.predict(x_val)\n",
        "print(accuracy_score(y_val, y_pred))\n",
        "print(confusion_matrix(y_val, y_pred))\n",
        "print(classification_report(y_val, y_pred))"
      ],
      "metadata": {
        "colab": {
          "base_uri": "https://localhost:8080/"
        },
        "id": "27F4-R-H4KbM",
        "outputId": "b56e09ef-e3e8-4bc9-d56e-68fe368abcaa"
      },
      "execution_count": 77,
      "outputs": [
        {
          "output_type": "stream",
          "name": "stdout",
          "text": [
            "0.9706078824315297\n",
            "[[1341   11]\n",
            " [  33  112]]\n",
            "              precision    recall  f1-score   support\n",
            "\n",
            "         0.0       0.98      0.99      0.98      1352\n",
            "         1.0       0.91      0.77      0.84       145\n",
            "\n",
            "    accuracy                           0.97      1497\n",
            "   macro avg       0.94      0.88      0.91      1497\n",
            "weighted avg       0.97      0.97      0.97      1497\n",
            "\n"
          ]
        }
      ]
    }
  ]
}