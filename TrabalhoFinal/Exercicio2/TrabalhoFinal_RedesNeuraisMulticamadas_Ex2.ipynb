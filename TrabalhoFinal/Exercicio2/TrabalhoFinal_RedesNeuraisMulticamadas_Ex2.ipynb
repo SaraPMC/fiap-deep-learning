{
  "nbformat": 4,
  "nbformat_minor": 0,
  "metadata": {
    "colab": {
      "provenance": [],
      "collapsed_sections": []
    },
    "kernelspec": {
      "name": "python3",
      "display_name": "Python 3"
    },
    "language_info": {
      "name": "python"
    }
  },
  "cells": [
    {
      "cell_type": "markdown",
      "source": [
        "**Redes Neurais Multicamadas**\n",
        "\n",
        "**Exercício #2**\n",
        "\n",
        "Utilizando o dataset do Spotify (disponível no repositório de apostilas da\n",
        "disciplina) construa um modelo sequencial ou funcional no Keras para fazer a classificação desse dataset.\n",
        "\n",
        "Dicas:\n",
        "\n",
        "Tente calibrar a quantidade de camadas e neurônios a fim de atingir uma acurácia superior a 74%;\n",
        "\n",
        "Tente utilizar ó dropout a fim de evitar eventual overfitting.\n",
        "\n",
        "• Aplique os pré-processamentos necessários.\n",
        "\n",
        "• Apresente a evolução do conjunto de treino e validação.\n",
        "\n",
        "• Apresente a acurácia do conjunto de testes.\n",
        "\n",
        "• Apresente a configuração (estrutura) da rede neural."
      ],
      "metadata": {
        "id": "pgUD6H_vjDua"
      }
    },
    {
      "cell_type": "code",
      "execution_count": null,
      "metadata": {
        "id": "JGE4UQeOi7aF"
      },
      "outputs": [],
      "source": []
    }
  ]
}