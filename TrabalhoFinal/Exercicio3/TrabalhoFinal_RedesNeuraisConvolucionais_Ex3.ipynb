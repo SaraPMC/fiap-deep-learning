{
  "nbformat": 4,
  "nbformat_minor": 0,
  "metadata": {
    "colab": {
      "provenance": [],
      "collapsed_sections": []
    },
    "kernelspec": {
      "name": "python3",
      "display_name": "Python 3"
    },
    "language_info": {
      "name": "python"
    }
  },
  "cells": [
    {
      "cell_type": "markdown",
      "source": [
        "**Redes Neurais Convolucionais**\n",
        "\n",
        "**Exercício #3**\n",
        "\n",
        "Utilizando o exemplo “Exemplo CNN Dataset CIFAR10.py” (disponível a área de apostilas) aumente a taxa de acerto atual (que em cerca de 60%) em ao menos 18% (totalizando 75% de acerto aproximadamente) calibrando a CNN.\n",
        "\n",
        "Dicas:\n",
        "\n",
        "• Tente alterar a quantidade de épocas;\n",
        "\n",
        "• Tente alterar o tamanho do batch_size;\n",
        "\n",
        "• Tente alterar a arquitetura da rede neural convolucional;\n",
        "\n",
        "• Tente alterar o tamanho e a quantidade dos filtros convolucionais;\n",
        "\n",
        "• Cuidado para não gerar um conjunto de filtros inválidos\n",
        "\n",
        "• Tente alterar a função de ativação na camada completamente conectada.\n",
        "\n",
        "• Aplique os pré-processamentos necessários.\n",
        "\n",
        "• Apresente a evolução do conjunto de treino e validação.\n",
        "\n",
        "• Apresente a acurácia do conjunto de testes.\n",
        "\n",
        "• Apresente a configuração (estrutura) da rede neural."
      ],
      "metadata": {
        "id": "vW6hPl4clRIa"
      }
    },
    {
      "cell_type": "code",
      "execution_count": null,
      "metadata": {
        "id": "HpDIXzkvk-2F"
      },
      "outputs": [],
      "source": []
    }
  ]
}