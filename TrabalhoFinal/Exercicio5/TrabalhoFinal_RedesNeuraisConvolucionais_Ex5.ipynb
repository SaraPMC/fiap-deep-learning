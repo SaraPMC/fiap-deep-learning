{
  "nbformat": 4,
  "nbformat_minor": 0,
  "metadata": {
    "colab": {
      "provenance": [],
      "collapsed_sections": []
    },
    "kernelspec": {
      "name": "python3",
      "display_name": "Python 3"
    },
    "language_info": {
      "name": "python"
    }
  },
  "cells": [
    {
      "cell_type": "markdown",
      "source": [
        "**Redes Neurais Convolucionais**\n",
        "\n",
        "**Exercício #5**\n",
        "\n",
        "Inicialmente os alunos deverão escolher entre 4 datasets:\n",
        "\n",
        "1.   Selecionar 15 frutas distintas do dataset fruits 360 (Fácil)\n",
        "2.   Selecionar todas as frutas do dataset fruits 360 (Médio). Disponível em:\n",
        "https://www.dropbox.com/s/kzhuv6xim8ejxp3/fruits.zip?dl=0\n",
        "3. CoronaHack -Chest X-Ray-Dataset (Médio):\n",
        "Classificar apenas se existe Pneumonia ou Não, opcionalmente classificar a existência de COVID-19. Disponível em:\n",
        "https://www.dropbox.com/s/zmo4c6pzwcgd9c4/562468_1022626_bundle_archive.zip?\n",
        "dl=0\n",
        "4. Dataset Skin Cancer MNIST: HAM10000 (difícil). Disponível em: https://www.dropbox.com/s/8o4ysiccspp46ov/skincancer-\n",
        "mnist-ham10000.zip?dl=0\n",
        "\n",
        "Com o dataset selecionado deve-se construir uma CNN para a classificação das imagens do dataset selecionado.\n",
        "\n",
        "Instruções Gerais:\n",
        "\n",
        "• Utilize a LetNet-5 como exemplo inicial bem como o exemplo visto em salada de aula do dataset minst;\n",
        "\n",
        "• Inicie o trabalho com parte do dataset vá adicionando gradativamente mais tipos distintos de frutos;\n",
        "\n",
        "• É permitido usar outras abordagens e arquiteturas;\n",
        "\n",
        "• É permitido o uso de Autoencoders;\n",
        "\n",
        "• É obrigatório o uso de CNN;\n",
        "\n",
        "• É permitido o uso de técnicas de processamento de imagens;\n",
        "\n",
        "• Não é permitido o uso de modelos pré-treinados;\n",
        "\n",
        "• Faça uma boa distribuição dos dados de teste e treinamento e validação;\n",
        "\n",
        "• Aplique os pré-processamentos necessários.\n",
        "\n",
        "• Apresente a evolução do conjunto de treino e validação.\n",
        "\n",
        "• Apresente a acurácia do conjunto de testes (opcional).\n",
        "\n",
        "• O conjunto de teste deve variar entre 20% e 30% do conjunto total de treinamento e deve ter a mesma proporção da quantidade de amostras por classes de forma aleatório. Para o dataset fruits360 o conjunto precisa ser construído, em outras palavras é necessário fazer uma rotina que faça isso, selecionando imagens de forma aleatória e respeitando a proporcionalidade de amostras por\n",
        "classes (todo tipo de fruta deve ter a mesma quantidade).\n",
        "\n",
        "• Apresente a configuração (estrutura) da rede neural.\n",
        "\n",
        "Dicas:\n",
        "\n",
        "Utilize as instruções de leituras de diretórios de imagens do próprio Keras\n",
        "(semelhante ao exemplo visto com o dataset de dígitos):\n",
        "\n",
        "train_datagen =\n",
        "preprocessing.image.ImageDataGenerator(validation_split=0.20)\n",
        "train_generator = train_datagen.flow_from_directory('Dataset', batch_size=200, color_mode = 'grayscale',\n",
        "target_size=(30, 30))"
      ],
      "metadata": {
        "id": "Vu3esXIWm-mL"
      }
    },
    {
      "cell_type": "code",
      "execution_count": null,
      "metadata": {
        "id": "uVoGHjPCm0qx"
      },
      "outputs": [],
      "source": []
    }
  ]
}